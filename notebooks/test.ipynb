{
 "cells": [
  {
   "cell_type": "code",
   "execution_count": 1,
   "metadata": {},
   "outputs": [],
   "source": [
    "import sys \n",
    "\n",
    "sys.path.append('..')"
   ]
  },
  {
   "cell_type": "code",
   "execution_count": 2,
   "metadata": {},
   "outputs": [
    {
     "name": "stdout",
     "output_type": "stream",
     "text": [
      "None\n",
      "{'error': {'[Code 2] README_FILE_MISSING\\n': ['README\\nLocation:\\nC:\\\\Users\\\\dinar\\\\Desktop\\\\test\\\\output/README\\nReason:\\nThe required file `README` is missing or has wrong extension (accepted extensions: `md`, `txt`, and `rst`). See <a href=\"https://bids-specification.readthedocs.io/en/stable/03-modality-agnostic-files.html#readme\">Section 03 (Modality agnostic files)</a> of the BIDS specification.\\n=============================\\n\\n']}, 'warning': {'[Code 3] PARTICIPANTS_FILE_MISSING\\n': ['participants.json\\nLocation:\\nC:\\\\Users\\\\dinar\\\\Desktop\\\\test\\\\output/participants.json\\nReason:\\nThe recommended file `participants.json` or `participants.tsv` is missing. See <a href=\"https://bids-specification.readthedocs.io/en/stable/03-modality-agnostic-files.html#participants-file\">Section 03 (Modality agnostic file)</a> of the BIDS specification.\\n=============================\\n\\n', 'participants.tsv\\nLocation:\\nC:\\\\Users\\\\dinar\\\\Desktop\\\\test\\\\output/participants.tsv\\nReason:\\nThe recommended file `participants.json` or `participants.tsv` is missing. See <a href=\"https://bids-specification.readthedocs.io/en/stable/03-modality-agnostic-files.html#participants-file\">Section 03 (Modality agnostic file)</a> of the BIDS specification.\\n=============================\\n\\n']}}\n"
     ]
    }
   ],
   "source": [
    "from comp_validator import comp_validator\n",
    "\n",
    "comp_validator.validate('C:\\\\Users\\\\dinar\\\\Desktop\\\\test\\\\output')"
   ]
  },
  {
   "cell_type": "code",
   "execution_count": null,
   "metadata": {},
   "outputs": [],
   "source": []
  }
 ],
 "metadata": {
  "kernelspec": {
   "display_name": "Python 3 (ipykernel)",
   "language": "python",
   "name": "python3"
  },
  "language_info": {
   "codemirror_mode": {
    "name": "ipython",
    "version": 3
   },
   "file_extension": ".py",
   "mimetype": "text/x-python",
   "name": "python",
   "nbconvert_exporter": "python",
   "pygments_lexer": "ipython3",
   "version": "3.9.12"
  }
 },
 "nbformat": 4,
 "nbformat_minor": 1
}
