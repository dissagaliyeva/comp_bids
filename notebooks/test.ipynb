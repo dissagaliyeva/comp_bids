{
 "cells": [
  {
   "cell_type": "code",
   "execution_count": 1,
   "metadata": {},
   "outputs": [],
   "source": [
    "import sys \n",
    "\n",
    "sys.path.append('..')"
   ]
  },
  {
   "cell_type": "code",
   "execution_count": 2,
   "metadata": {},
   "outputs": [],
   "source": [
    "from comp_validator import comp_validator\n",
    "\n",
    "# comp_validator.validate('C:\\\\Users\\\\dinar\\\\Desktop\\\\test\\\\output')\n",
    "\n",
    "comp_validator.validate('C:/Users/dinar/Desktop/brain_tumor_comp/comp')"
   ]
  },
  {
   "cell_type": "code",
   "execution_count": null,
   "metadata": {},
   "outputs": [],
   "source": []
  },
  {
   "cell_type": "code",
   "execution_count": 8,
   "metadata": {},
   "outputs": [
    {
     "data": {
      "text/plain": [
       "WindowsPath('C:/Users/dinar/Desktop/test/output')"
      ]
     },
     "execution_count": 8,
     "metadata": {},
     "output_type": "execute_result"
    }
   ],
   "source": [
    "from pathlib import Path\n",
    "\n",
    "Path('C:\\\\Users\\\\dinar\\\\Desktop\\\\test\\\\output')"
   ]
  },
  {
   "cell_type": "code",
   "execution_count": 5,
   "metadata": {},
   "outputs": [
    {
     "name": "stdout",
     "output_type": "stream",
     "text": [
      "SourceCode https://github.com/haerts/The-Virtual-Brain-Tumor-Patient <class 'str'>\n",
      "SoftwareVersion 1.5.10 <class 'str'>\n",
      "SoftwareRepository https://github.com/the-virtual-brain/tvb-root/releases/tag/1.5.10 <class 'str'>\n",
      "SourceCodeVersion 1.5.10 <class 'str'>\n",
      "SoftwareName TVB <class 'str'>\n",
      "Description These are the equations to simulate the time series with the Reduced Wong Wang model. <class 'str'>\n"
     ]
    }
   ],
   "source": [
    "import json\n",
    "\n",
    "for key, value in json.load(open('C:/Users/dinar/Desktop/brain_tumor_comp/comp/eq/eq.json')).items():\n",
    "    print(key, value, type(value))"
   ]
  },
  {
   "cell_type": "code",
   "execution_count": null,
   "metadata": {},
   "outputs": [],
   "source": []
  },
  {
   "cell_type": "code",
   "execution_count": 4,
   "metadata": {},
   "outputs": [
    {
     "data": {
      "text/html": [
       "<div>\n",
       "<style scoped>\n",
       "    .dataframe tbody tr th:only-of-type {\n",
       "        vertical-align: middle;\n",
       "    }\n",
       "\n",
       "    .dataframe tbody tr th {\n",
       "        vertical-align: top;\n",
       "    }\n",
       "\n",
       "    .dataframe thead th {\n",
       "        text-align: right;\n",
       "    }\n",
       "</style>\n",
       "<table border=\"1\" class=\"dataframe\">\n",
       "  <thead>\n",
       "    <tr style=\"text-align: right;\">\n",
       "      <th></th>\n",
       "      <th>0</th>\n",
       "      <th>1</th>\n",
       "      <th>2</th>\n",
       "    </tr>\n",
       "  </thead>\n",
       "  <tbody>\n",
       "    <tr>\n",
       "      <th>0</th>\n",
       "      <td>-56.2627</td>\n",
       "      <td>-31.799300</td>\n",
       "      <td>30.31640</td>\n",
       "    </tr>\n",
       "    <tr>\n",
       "      <th>1</th>\n",
       "      <td>-1.9122</td>\n",
       "      <td>14.532500</td>\n",
       "      <td>61.51030</td>\n",
       "    </tr>\n",
       "    <tr>\n",
       "      <th>2</th>\n",
       "      <td>-35.5660</td>\n",
       "      <td>0.004865</td>\n",
       "      <td>72.42080</td>\n",
       "    </tr>\n",
       "    <tr>\n",
       "      <th>3</th>\n",
       "      <td>-8.8673</td>\n",
       "      <td>-75.491800</td>\n",
       "      <td>19.94630</td>\n",
       "    </tr>\n",
       "    <tr>\n",
       "      <th>4</th>\n",
       "      <td>-23.9529</td>\n",
       "      <td>5.120000</td>\n",
       "      <td>-0.92932</td>\n",
       "    </tr>\n",
       "    <tr>\n",
       "      <th>...</th>\n",
       "      <td>...</td>\n",
       "      <td>...</td>\n",
       "      <td>...</td>\n",
       "    </tr>\n",
       "    <tr>\n",
       "      <th>63</th>\n",
       "      <td>48.2343</td>\n",
       "      <td>-38.361900</td>\n",
       "      <td>46.18660</td>\n",
       "    </tr>\n",
       "    <tr>\n",
       "      <th>64</th>\n",
       "      <td>12.8742</td>\n",
       "      <td>70.126400</td>\n",
       "      <td>41.90320</td>\n",
       "    </tr>\n",
       "    <tr>\n",
       "      <th>65</th>\n",
       "      <td>28.1812</td>\n",
       "      <td>26.614500</td>\n",
       "      <td>5.16900</td>\n",
       "    </tr>\n",
       "    <tr>\n",
       "      <th>66</th>\n",
       "      <td>41.1679</td>\n",
       "      <td>-18.461600</td>\n",
       "      <td>30.52650</td>\n",
       "    </tr>\n",
       "    <tr>\n",
       "      <th>67</th>\n",
       "      <td>34.6454</td>\n",
       "      <td>2.304000</td>\n",
       "      <td>29.44910</td>\n",
       "    </tr>\n",
       "  </tbody>\n",
       "</table>\n",
       "<p>68 rows × 3 columns</p>\n",
       "</div>"
      ],
      "text/plain": [
       "          0          1         2\n",
       "0  -56.2627 -31.799300  30.31640\n",
       "1   -1.9122  14.532500  61.51030\n",
       "2  -35.5660   0.004865  72.42080\n",
       "3   -8.8673 -75.491800  19.94630\n",
       "4  -23.9529   5.120000  -0.92932\n",
       "..      ...        ...       ...\n",
       "63  48.2343 -38.361900  46.18660\n",
       "64  12.8742  70.126400  41.90320\n",
       "65  28.1812  26.614500   5.16900\n",
       "66  41.1679 -18.461600  30.52650\n",
       "67  34.6454   2.304000  29.44910\n",
       "\n",
       "[68 rows x 3 columns]"
      ]
     },
     "execution_count": 4,
     "metadata": {},
     "output_type": "execute_result"
    }
   ],
   "source": [
    "import pandas as pd\n",
    "\n",
    "node0 = 'C:/Users/dinar/Desktop/brain_tumor_comp/comp\\\\sub-CON01\\\\ses-preop\\\\coord\\\\sub-CON01_nodes.tsv'\n",
    "node1 = 'C:/Users/dinar/Desktop/brain_tumor_comp/comp\\\\sub-CON02\\\\ses-postop\\\\coord\\\\sub-CON02_nodes.tsv'\n",
    "\n",
    "node0 = pd.read_csv(node0, header=None, sep='\\t')\n",
    "node1 = pd.read_csv(node1, header=None, sep='\\t')\n",
    "\n",
    "node1"
   ]
  },
  {
   "cell_type": "code",
   "execution_count": 6,
   "metadata": {},
   "outputs": [
    {
     "data": {
      "text/plain": [
       "False"
      ]
     },
     "execution_count": 6,
     "metadata": {},
     "output_type": "execute_result"
    }
   ],
   "source": [
    "node0.equals(node1)"
   ]
  },
  {
   "cell_type": "code",
   "execution_count": null,
   "metadata": {},
   "outputs": [],
   "source": []
  },
  {
   "cell_type": "code",
   "execution_count": 9,
   "metadata": {},
   "outputs": [
    {
     "name": "stdout",
     "output_type": "stream",
     "text": [
      "68 1\n"
     ]
    }
   ],
   "source": [
    "import pandas as pd\n",
    "\n",
    "r, c = pd.read_csv('C:/Users/dinar/Desktop/conversions/brain_tumor/sourcedata/sub-CON01/ses-preop/weights.txt', sep='\\t', header=None).shape\n",
    "print(r, c)\n"
   ]
  },
  {
   "cell_type": "code",
   "execution_count": 13,
   "metadata": {},
   "outputs": [
    {
     "data": {
      "text/plain": [
       "(1, 1)"
      ]
     },
     "execution_count": 13,
     "metadata": {},
     "output_type": "execute_result"
    }
   ],
   "source": [
    "pd.read_csv('C:/Users/dinar/Desktop/test/output/weights.txt', sep='\\t', header=None).shape"
   ]
  },
  {
   "cell_type": "code",
   "execution_count": 15,
   "metadata": {},
   "outputs": [
    {
     "data": {
      "text/plain": [
       "'C:/Users/dinar/Desktop/test/output'"
      ]
     },
     "execution_count": 15,
     "metadata": {},
     "output_type": "execute_result"
    }
   ],
   "source": [
    "import os \n",
    "\n",
    "os.path.dirname('C:/Users/dinar/Desktop/test/output/weights.txt')"
   ]
  },
  {
   "cell_type": "code",
   "execution_count": null,
   "metadata": {},
   "outputs": [],
   "source": []
  },
  {
   "cell_type": "code",
   "execution_count": null,
   "metadata": {},
   "outputs": [],
   "source": []
  },
  {
   "cell_type": "code",
   "execution_count": 3,
   "metadata": {},
   "outputs": [],
   "source": [
    "import pandas as pd \n",
    "\n",
    "file = pd.read_csv('C:/Users/dinar/Desktop/incf_edu_case/output/participants.tsv', sep='\\t')"
   ]
  },
  {
   "cell_type": "code",
   "execution_count": 9,
   "metadata": {},
   "outputs": [
    {
     "data": {
      "text/plain": [
       "numpy.float64"
      ]
     },
     "execution_count": 9,
     "metadata": {},
     "output_type": "execute_result"
    }
   ],
   "source": [
    "type(file['age'][0])"
   ]
  },
  {
   "cell_type": "code",
   "execution_count": 5,
   "metadata": {},
   "outputs": [
    {
     "name": "stdout",
     "output_type": "stream",
     "text": [
      "<class 'float'> nan\n",
      "['sub-01']\n"
     ]
    }
   ],
   "source": [
    "import re\n",
    "\n",
    "for idx, content in file.iterrows():\n",
    "    print(type(content['species']), content['species'])\n",
    "    print(re.findall(r'sub-[0-9a-zA-Z]+', content['participant_id'], flags=re.IGNORECASE))"
   ]
  },
  {
   "cell_type": "code",
   "execution_count": 6,
   "metadata": {},
   "outputs": [
    {
     "data": {
      "text/plain": [
       "nan"
      ]
     },
     "execution_count": 6,
     "metadata": {},
     "output_type": "execute_result"
    }
   ],
   "source": [
    "name = file['species'].unique()[0]\n",
    "name"
   ]
  },
  {
   "cell_type": "code",
   "execution_count": 7,
   "metadata": {},
   "outputs": [
    {
     "data": {
      "text/plain": [
       "numpy.float64"
      ]
     },
     "execution_count": 7,
     "metadata": {},
     "output_type": "execute_result"
    }
   ],
   "source": [
    "type(name)"
   ]
  },
  {
   "cell_type": "code",
   "execution_count": 9,
   "metadata": {},
   "outputs": [
    {
     "data": {
      "text/plain": [
       "True"
      ]
     },
     "execution_count": 9,
     "metadata": {},
     "output_type": "execute_result"
    }
   ],
   "source": [
    "'participant_id' in file.columns"
   ]
  },
  {
   "cell_type": "code",
   "execution_count": null,
   "metadata": {},
   "outputs": [],
   "source": []
  }
 ],
 "metadata": {
  "kernelspec": {
   "display_name": "Python 3 (ipykernel)",
   "language": "python",
   "name": "python3"
  },
  "language_info": {
   "codemirror_mode": {
    "name": "ipython",
    "version": 3
   },
   "file_extension": ".py",
   "mimetype": "text/x-python",
   "name": "python",
   "nbconvert_exporter": "python",
   "pygments_lexer": "ipython3",
   "version": "3.9.12"
  }
 },
 "nbformat": 4,
 "nbformat_minor": 1
}
