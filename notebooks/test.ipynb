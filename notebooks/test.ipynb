{
 "cells": [
  {
   "cell_type": "code",
   "execution_count": 1,
   "metadata": {},
   "outputs": [],
   "source": [
    "import sys \n",
    "\n",
    "sys.path.append('..')"
   ]
  },
  {
   "cell_type": "code",
   "execution_count": 2,
   "metadata": {},
   "outputs": [
    {
     "name": "stdout",
     "output_type": "stream",
     "text": [
      "{'error': {'[Code 8] PARTICIPANTS_FILE_NOT_UNIQUE\\n': ['participants.tsv\\nLocation:\\nC:\\\\Users\\\\dinar\\\\Desktop\\\\test\\\\output/participants.tsv\\nReason:\\nThe recommended file `participants.tsv` contains non-unique `participant_id` values. Each row must have a unique participant id. See <a href=\"https://bids-specification.readthedocs.io/en/stable/03-modality-agnostic-files.html#participants-file\">Section 03 (Modality agnostic file)</a> of the BIDS specification.\\n=============================\\n\\n'], '[Code 9] PARTICIPANTS_FILE_WRONG_NAMING\\n': ['participants.tsv\\nLocation:\\nC:\\\\Users\\\\dinar\\\\Desktop\\\\test\\\\output/participants.tsv\\nReason:\\nThe recommended file `participants.tsv`\\'s `participant_id` column has a wrong naming convention. It should start with `sub-` and end with alphanumeric values. See <a href=\"https://bids-specification.readthedocs.io/en/stable/03-modality-agnostic-files.html#participants-file\">Section 03 (Modality agnostic file)</a> of the BIDS specification.\\nEvidence:\\nLine: 2, subject: s-01\\n=============================\\n\\n'], '[Code 15] DATASET_DESCRIPTION_MISSING\\n': ['dataset_description.json\\nLocation:\\nC:\\\\Users\\\\dinar\\\\Desktop\\\\test\\\\output/dataset_description.json\\nReason:\\nThe required file `dataset_description.json` is missing or has a wrong extension. See <a href=\"https://bids-specification.readthedocs.io/en/stable/03-modality-agnostic-files.html#dataset_descriptionjson\">Section 03 (Modality agnostic files)</a> of the BIDS specificaiton.\\n=============================\\n\\n']}, 'warning': {'[Code 5] EMPTY_FILE\\n': ['README.txt\\nLocation:\\nC:\\\\Users\\\\dinar\\\\Desktop\\\\test\\\\output/README.txt\\nReason:\\nEmpty files not allowed.\\n=============================\\n\\n'], '[Code 4] CHANGES_FILE_MISSING\\n': ['CHANGES\\nLocation:\\nC:\\\\Users\\\\dinar\\\\Desktop\\\\test\\\\output/CHANGES\\nReason:\\nThe recommended file `CHANGES` is missing. See <a href=\"https://bids-specification.readthedocs.io/en/stable/03-modality-agnostic-files.html#changes\">Section 03 (Modality agnostic files)</a> of the BIDS specification.\\n=============================\\n\\n'], '[Code 3] PARTICIPANTS_FILE_MISSING\\n': ['participants.json\\nLocation:\\nC:\\\\Users\\\\dinar\\\\Desktop\\\\test\\\\output/participants.json\\nReason:\\nThe recommended file `participants.json` or `participants.tsv` is missing. See <a href=\"https://bids-specification.readthedocs.io/en/stable/03-modality-agnostic-files.html#participants-file\">Section 03 (Modality agnostic file)</a> of the BIDS specification.\\n=============================\\n\\n'], '[Code 12] PARTICIPANTS_FILE_WRONG_SEX_TYPE\\n': ['participants.tsv\\nLocation:\\nC:\\\\Users\\\\dinar\\\\Desktop\\\\test\\\\output/participants.tsv\\nReason:\\nThe recommended file `participants.tsv`\\'s `sex` columns has to be of type string. See <a href=\"https://bids-specification.readthedocs.io/en/stable/03-modality-agnostic-files.html#participants-file\">Section 03 (Modality agnostic file)</a> of the BIDS specification.\\nEvidence:\\nLine: 0, subject: sub-01, sex: nan\\n=============================\\n\\n', 'participants.tsv\\nLocation:\\nC:\\\\Users\\\\dinar\\\\Desktop\\\\test\\\\output/participants.tsv\\nReason:\\nThe recommended file `participants.tsv`\\'s `sex` columns has to be of type string. See <a href=\"https://bids-specification.readthedocs.io/en/stable/03-modality-agnostic-files.html#participants-file\">Section 03 (Modality agnostic file)</a> of the BIDS specification.\\nEvidence:\\nLine: 1, subject: sub-01, sex: nan\\n=============================\\n\\n', 'participants.tsv\\nLocation:\\nC:\\\\Users\\\\dinar\\\\Desktop\\\\test\\\\output/participants.tsv\\nReason:\\nThe recommended file `participants.tsv`\\'s `sex` columns has to be of type string. See <a href=\"https://bids-specification.readthedocs.io/en/stable/03-modality-agnostic-files.html#participants-file\">Section 03 (Modality agnostic file)</a> of the BIDS specification.\\nEvidence:\\nLine: 2, subject: s-01, sex: nan\\n=============================\\n\\n']}}\n"
     ]
    }
   ],
   "source": [
    "from comp_validator import comp_validator\n",
    "\n",
    "comp_validator.validate('C:\\\\Users\\\\dinar\\\\Desktop\\\\test\\\\output')"
   ]
  },
  {
   "cell_type": "code",
   "execution_count": null,
   "metadata": {},
   "outputs": [],
   "source": []
  },
  {
   "cell_type": "code",
   "execution_count": 3,
   "metadata": {},
   "outputs": [],
   "source": [
    "import pandas as pd \n",
    "\n",
    "file = pd.read_csv('C:/Users/dinar/Desktop/incf_edu_case/output/participants.tsv', sep='\\t')"
   ]
  },
  {
   "cell_type": "code",
   "execution_count": 9,
   "metadata": {},
   "outputs": [
    {
     "data": {
      "text/plain": [
       "numpy.float64"
      ]
     },
     "execution_count": 9,
     "metadata": {},
     "output_type": "execute_result"
    }
   ],
   "source": [
    "type(file['age'][0])"
   ]
  },
  {
   "cell_type": "code",
   "execution_count": 5,
   "metadata": {},
   "outputs": [
    {
     "name": "stdout",
     "output_type": "stream",
     "text": [
      "<class 'float'> nan\n",
      "['sub-01']\n"
     ]
    }
   ],
   "source": [
    "import re\n",
    "\n",
    "for idx, content in file.iterrows():\n",
    "    print(type(content['species']), content['species'])\n",
    "    print(re.findall(r'sub-[0-9a-zA-Z]+', content['participant_id'], flags=re.IGNORECASE))"
   ]
  },
  {
   "cell_type": "code",
   "execution_count": 6,
   "metadata": {},
   "outputs": [
    {
     "data": {
      "text/plain": [
       "nan"
      ]
     },
     "execution_count": 6,
     "metadata": {},
     "output_type": "execute_result"
    }
   ],
   "source": [
    "name = file['species'].unique()[0]\n",
    "name"
   ]
  },
  {
   "cell_type": "code",
   "execution_count": 7,
   "metadata": {},
   "outputs": [
    {
     "data": {
      "text/plain": [
       "numpy.float64"
      ]
     },
     "execution_count": 7,
     "metadata": {},
     "output_type": "execute_result"
    }
   ],
   "source": [
    "type(name)"
   ]
  },
  {
   "cell_type": "code",
   "execution_count": 9,
   "metadata": {},
   "outputs": [
    {
     "data": {
      "text/plain": [
       "True"
      ]
     },
     "execution_count": 9,
     "metadata": {},
     "output_type": "execute_result"
    }
   ],
   "source": [
    "'participant_id' in file.columns"
   ]
  },
  {
   "cell_type": "code",
   "execution_count": null,
   "metadata": {},
   "outputs": [],
   "source": []
  }
 ],
 "metadata": {
  "kernelspec": {
   "display_name": "Python 3 (ipykernel)",
   "language": "python",
   "name": "python3"
  },
  "language_info": {
   "codemirror_mode": {
    "name": "ipython",
    "version": 3
   },
   "file_extension": ".py",
   "mimetype": "text/x-python",
   "name": "python",
   "nbconvert_exporter": "python",
   "pygments_lexer": "ipython3",
   "version": "3.9.12"
  }
 },
 "nbformat": 4,
 "nbformat_minor": 1
}
