{
 "cells": [
  {
   "cell_type": "code",
   "execution_count": 1,
   "metadata": {},
   "outputs": [],
   "source": [
    "import sys \n",
    "\n",
    "sys.path.append('..')"
   ]
  },
  {
   "cell_type": "code",
   "execution_count": 2,
   "metadata": {},
   "outputs": [
    {
     "name": "stdout",
     "output_type": "stream",
     "text": [
      "['C:/Users/dinar/Desktop/brain_tumor_comp/comp\\\\sub-CON01\\\\ses-preop\\\\coord\\\\sub-CON01_labels.json', 'C:/Users/dinar/Desktop/brain_tumor_comp/comp\\\\sub-CON01\\\\ses-preop\\\\coord\\\\sub-CON01_labels.tsv', 'C:/Users/dinar/Desktop/brain_tumor_comp/comp\\\\sub-CON01\\\\ses-preop\\\\coord\\\\sub-CON01_nodes.json', 'C:/Users/dinar/Desktop/brain_tumor_comp/comp\\\\sub-CON01\\\\ses-preop\\\\coord\\\\sub-CON01_nodes.tsv', 'C:/Users/dinar/Desktop/brain_tumor_comp/comp\\\\sub-CON02\\\\ses-postop\\\\coord\\\\sub-CON02_labels.json', 'C:/Users/dinar/Desktop/brain_tumor_comp/comp\\\\sub-CON02\\\\ses-postop\\\\coord\\\\sub-CON02_labels.tsv', 'C:/Users/dinar/Desktop/brain_tumor_comp/comp\\\\sub-CON02\\\\ses-postop\\\\coord\\\\sub-CON02_nodes.json', 'C:/Users/dinar/Desktop/brain_tumor_comp/comp\\\\sub-CON02\\\\ses-postop\\\\coord\\\\sub-CON02_nodes.tsv', 'C:/Users/dinar/Desktop/brain_tumor_comp/comp\\\\sub-CON02\\\\ses-preop\\\\coord\\\\sub-CON02_labels.json', 'C:/Users/dinar/Desktop/brain_tumor_comp/comp\\\\sub-CON02\\\\ses-preop\\\\coord\\\\sub-CON02_labels.tsv', 'C:/Users/dinar/Desktop/brain_tumor_comp/comp\\\\sub-CON02\\\\ses-preop\\\\coord\\\\sub-CON02_nodes.json', 'C:/Users/dinar/Desktop/brain_tumor_comp/comp\\\\sub-CON02\\\\ses-preop\\\\coord\\\\sub-CON02_nodes.tsv', 'C:/Users/dinar/Desktop/brain_tumor_comp/comp\\\\sub-CON03\\\\ses-postop\\\\coord\\\\sub-CON03_labels.json', 'C:/Users/dinar/Desktop/brain_tumor_comp/comp\\\\sub-CON03\\\\ses-postop\\\\coord\\\\sub-CON03_labels.tsv', 'C:/Users/dinar/Desktop/brain_tumor_comp/comp\\\\sub-CON03\\\\ses-postop\\\\coord\\\\sub-CON03_nodes.json', 'C:/Users/dinar/Desktop/brain_tumor_comp/comp\\\\sub-CON03\\\\ses-postop\\\\coord\\\\sub-CON03_nodes.tsv', 'C:/Users/dinar/Desktop/brain_tumor_comp/comp\\\\sub-CON03\\\\ses-preop\\\\coord\\\\sub-CON03_labels.json', 'C:/Users/dinar/Desktop/brain_tumor_comp/comp\\\\sub-CON03\\\\ses-preop\\\\coord\\\\sub-CON03_labels.tsv', 'C:/Users/dinar/Desktop/brain_tumor_comp/comp\\\\sub-CON03\\\\ses-preop\\\\coord\\\\sub-CON03_nodes.json', 'C:/Users/dinar/Desktop/brain_tumor_comp/comp\\\\sub-CON03\\\\ses-preop\\\\coord\\\\sub-CON03_nodes.tsv', 'C:/Users/dinar/Desktop/brain_tumor_comp/comp\\\\sub-CON04\\\\ses-postop\\\\coord\\\\sub-CON04_labels.json', 'C:/Users/dinar/Desktop/brain_tumor_comp/comp\\\\sub-CON04\\\\ses-postop\\\\coord\\\\sub-CON04_labels.tsv', 'C:/Users/dinar/Desktop/brain_tumor_comp/comp\\\\sub-CON04\\\\ses-postop\\\\coord\\\\sub-CON04_nodes.json', 'C:/Users/dinar/Desktop/brain_tumor_comp/comp\\\\sub-CON04\\\\ses-postop\\\\coord\\\\sub-CON04_nodes.tsv', 'C:/Users/dinar/Desktop/brain_tumor_comp/comp\\\\sub-CON04\\\\ses-preop\\\\coord\\\\sub-CON04_labels.json', 'C:/Users/dinar/Desktop/brain_tumor_comp/comp\\\\sub-CON04\\\\ses-preop\\\\coord\\\\sub-CON04_labels.tsv', 'C:/Users/dinar/Desktop/brain_tumor_comp/comp\\\\sub-CON04\\\\ses-preop\\\\coord\\\\sub-CON04_nodes.json', 'C:/Users/dinar/Desktop/brain_tumor_comp/comp\\\\sub-CON04\\\\ses-preop\\\\coord\\\\sub-CON04_nodes.tsv', 'C:/Users/dinar/Desktop/brain_tumor_comp/comp\\\\sub-CON05\\\\ses-postop\\\\coord\\\\sub-CON05_labels.json', 'C:/Users/dinar/Desktop/brain_tumor_comp/comp\\\\sub-CON05\\\\ses-postop\\\\coord\\\\sub-CON05_labels.tsv', 'C:/Users/dinar/Desktop/brain_tumor_comp/comp\\\\sub-CON05\\\\ses-postop\\\\coord\\\\sub-CON05_nodes.json', 'C:/Users/dinar/Desktop/brain_tumor_comp/comp\\\\sub-CON05\\\\ses-postop\\\\coord\\\\sub-CON05_nodes.tsv', 'C:/Users/dinar/Desktop/brain_tumor_comp/comp\\\\sub-CON05\\\\ses-preop\\\\coord\\\\sub-CON05_labels.json', 'C:/Users/dinar/Desktop/brain_tumor_comp/comp\\\\sub-CON05\\\\ses-preop\\\\coord\\\\sub-CON05_labels.tsv', 'C:/Users/dinar/Desktop/brain_tumor_comp/comp\\\\sub-CON05\\\\ses-preop\\\\coord\\\\sub-CON05_nodes.json', 'C:/Users/dinar/Desktop/brain_tumor_comp/comp\\\\sub-CON05\\\\ses-preop\\\\coord\\\\sub-CON05_nodes.tsv', 'C:/Users/dinar/Desktop/brain_tumor_comp/comp\\\\sub-CON06\\\\ses-postop\\\\coord\\\\sub-CON06_labels.json', 'C:/Users/dinar/Desktop/brain_tumor_comp/comp\\\\sub-CON06\\\\ses-postop\\\\coord\\\\sub-CON06_labels.tsv', 'C:/Users/dinar/Desktop/brain_tumor_comp/comp\\\\sub-CON06\\\\ses-postop\\\\coord\\\\sub-CON06_nodes.json', 'C:/Users/dinar/Desktop/brain_tumor_comp/comp\\\\sub-CON06\\\\ses-postop\\\\coord\\\\sub-CON06_nodes.tsv', 'C:/Users/dinar/Desktop/brain_tumor_comp/comp\\\\sub-CON06\\\\ses-preop\\\\coord\\\\sub-CON06_labels.json', 'C:/Users/dinar/Desktop/brain_tumor_comp/comp\\\\sub-CON06\\\\ses-preop\\\\coord\\\\sub-CON06_labels.tsv', 'C:/Users/dinar/Desktop/brain_tumor_comp/comp\\\\sub-CON06\\\\ses-preop\\\\coord\\\\sub-CON06_nodes.json', 'C:/Users/dinar/Desktop/brain_tumor_comp/comp\\\\sub-CON06\\\\ses-preop\\\\coord\\\\sub-CON06_nodes.tsv', 'C:/Users/dinar/Desktop/brain_tumor_comp/comp\\\\sub-CON07\\\\ses-postop\\\\coord\\\\sub-CON07_labels.json', 'C:/Users/dinar/Desktop/brain_tumor_comp/comp\\\\sub-CON07\\\\ses-postop\\\\coord\\\\sub-CON07_labels.tsv', 'C:/Users/dinar/Desktop/brain_tumor_comp/comp\\\\sub-CON07\\\\ses-postop\\\\coord\\\\sub-CON07_nodes.json', 'C:/Users/dinar/Desktop/brain_tumor_comp/comp\\\\sub-CON07\\\\ses-postop\\\\coord\\\\sub-CON07_nodes.tsv', 'C:/Users/dinar/Desktop/brain_tumor_comp/comp\\\\sub-CON07\\\\ses-preop\\\\coord\\\\sub-CON07_labels.json', 'C:/Users/dinar/Desktop/brain_tumor_comp/comp\\\\sub-CON07\\\\ses-preop\\\\coord\\\\sub-CON07_labels.tsv', 'C:/Users/dinar/Desktop/brain_tumor_comp/comp\\\\sub-CON07\\\\ses-preop\\\\coord\\\\sub-CON07_nodes.json', 'C:/Users/dinar/Desktop/brain_tumor_comp/comp\\\\sub-CON07\\\\ses-preop\\\\coord\\\\sub-CON07_nodes.tsv', 'C:/Users/dinar/Desktop/brain_tumor_comp/comp\\\\sub-CON08\\\\ses-postop\\\\coord\\\\sub-CON08_labels.json', 'C:/Users/dinar/Desktop/brain_tumor_comp/comp\\\\sub-CON08\\\\ses-postop\\\\coord\\\\sub-CON08_labels.tsv', 'C:/Users/dinar/Desktop/brain_tumor_comp/comp\\\\sub-CON08\\\\ses-postop\\\\coord\\\\sub-CON08_nodes.json', 'C:/Users/dinar/Desktop/brain_tumor_comp/comp\\\\sub-CON08\\\\ses-postop\\\\coord\\\\sub-CON08_nodes.tsv', 'C:/Users/dinar/Desktop/brain_tumor_comp/comp\\\\sub-CON08\\\\ses-preop\\\\coord\\\\sub-CON08_labels.json', 'C:/Users/dinar/Desktop/brain_tumor_comp/comp\\\\sub-CON08\\\\ses-preop\\\\coord\\\\sub-CON08_labels.tsv', 'C:/Users/dinar/Desktop/brain_tumor_comp/comp\\\\sub-CON08\\\\ses-preop\\\\coord\\\\sub-CON08_nodes.json', 'C:/Users/dinar/Desktop/brain_tumor_comp/comp\\\\sub-CON08\\\\ses-preop\\\\coord\\\\sub-CON08_nodes.tsv', 'C:/Users/dinar/Desktop/brain_tumor_comp/comp\\\\sub-CON09\\\\ses-postop\\\\coord\\\\sub-CON09_labels.json', 'C:/Users/dinar/Desktop/brain_tumor_comp/comp\\\\sub-CON09\\\\ses-postop\\\\coord\\\\sub-CON09_labels.tsv', 'C:/Users/dinar/Desktop/brain_tumor_comp/comp\\\\sub-CON09\\\\ses-postop\\\\coord\\\\sub-CON09_nodes.json', 'C:/Users/dinar/Desktop/brain_tumor_comp/comp\\\\sub-CON09\\\\ses-postop\\\\coord\\\\sub-CON09_nodes.tsv', 'C:/Users/dinar/Desktop/brain_tumor_comp/comp\\\\sub-CON09\\\\ses-preop\\\\coord\\\\sub-CON09_labels.json', 'C:/Users/dinar/Desktop/brain_tumor_comp/comp\\\\sub-CON09\\\\ses-preop\\\\coord\\\\sub-CON09_labels.tsv', 'C:/Users/dinar/Desktop/brain_tumor_comp/comp\\\\sub-CON09\\\\ses-preop\\\\coord\\\\sub-CON09_nodes.json', 'C:/Users/dinar/Desktop/brain_tumor_comp/comp\\\\sub-CON09\\\\ses-preop\\\\coord\\\\sub-CON09_nodes.tsv', 'C:/Users/dinar/Desktop/brain_tumor_comp/comp\\\\sub-CON10\\\\ses-postop\\\\coord\\\\sub-CON10_labels.json', 'C:/Users/dinar/Desktop/brain_tumor_comp/comp\\\\sub-CON10\\\\ses-postop\\\\coord\\\\sub-CON10_labels.tsv', 'C:/Users/dinar/Desktop/brain_tumor_comp/comp\\\\sub-CON10\\\\ses-postop\\\\coord\\\\sub-CON10_nodes.json', 'C:/Users/dinar/Desktop/brain_tumor_comp/comp\\\\sub-CON10\\\\ses-postop\\\\coord\\\\sub-CON10_nodes.tsv', 'C:/Users/dinar/Desktop/brain_tumor_comp/comp\\\\sub-CON10\\\\ses-preop\\\\coord\\\\sub-CON10_labels.json', 'C:/Users/dinar/Desktop/brain_tumor_comp/comp\\\\sub-CON10\\\\ses-preop\\\\coord\\\\sub-CON10_labels.tsv', 'C:/Users/dinar/Desktop/brain_tumor_comp/comp\\\\sub-CON10\\\\ses-preop\\\\coord\\\\sub-CON10_nodes.json', 'C:/Users/dinar/Desktop/brain_tumor_comp/comp\\\\sub-CON10\\\\ses-preop\\\\coord\\\\sub-CON10_nodes.tsv', 'C:/Users/dinar/Desktop/brain_tumor_comp/comp\\\\sub-CON11\\\\ses-postop\\\\coord\\\\sub-CON11_labels.json', 'C:/Users/dinar/Desktop/brain_tumor_comp/comp\\\\sub-CON11\\\\ses-postop\\\\coord\\\\sub-CON11_labels.tsv', 'C:/Users/dinar/Desktop/brain_tumor_comp/comp\\\\sub-CON11\\\\ses-postop\\\\coord\\\\sub-CON11_nodes.json', 'C:/Users/dinar/Desktop/brain_tumor_comp/comp\\\\sub-CON11\\\\ses-postop\\\\coord\\\\sub-CON11_nodes.tsv', 'C:/Users/dinar/Desktop/brain_tumor_comp/comp\\\\sub-CON11\\\\ses-preop\\\\coord\\\\sub-CON11_labels.json', 'C:/Users/dinar/Desktop/brain_tumor_comp/comp\\\\sub-CON11\\\\ses-preop\\\\coord\\\\sub-CON11_labels.tsv', 'C:/Users/dinar/Desktop/brain_tumor_comp/comp\\\\sub-CON11\\\\ses-preop\\\\coord\\\\sub-CON11_nodes.json', 'C:/Users/dinar/Desktop/brain_tumor_comp/comp\\\\sub-CON11\\\\ses-preop\\\\coord\\\\sub-CON11_nodes.tsv', 'C:/Users/dinar/Desktop/brain_tumor_comp/comp\\\\sub-PAT01\\\\ses-postop\\\\coord\\\\sub-PAT01_labels.json', 'C:/Users/dinar/Desktop/brain_tumor_comp/comp\\\\sub-PAT01\\\\ses-postop\\\\coord\\\\sub-PAT01_labels.tsv', 'C:/Users/dinar/Desktop/brain_tumor_comp/comp\\\\sub-PAT01\\\\ses-postop\\\\coord\\\\sub-PAT01_nodes.json', 'C:/Users/dinar/Desktop/brain_tumor_comp/comp\\\\sub-PAT01\\\\ses-postop\\\\coord\\\\sub-PAT01_nodes.tsv', 'C:/Users/dinar/Desktop/brain_tumor_comp/comp\\\\sub-PAT01\\\\ses-preop\\\\coord\\\\sub-PAT01_labels.json', 'C:/Users/dinar/Desktop/brain_tumor_comp/comp\\\\sub-PAT01\\\\ses-preop\\\\coord\\\\sub-PAT01_labels.tsv', 'C:/Users/dinar/Desktop/brain_tumor_comp/comp\\\\sub-PAT01\\\\ses-preop\\\\coord\\\\sub-PAT01_nodes.json', 'C:/Users/dinar/Desktop/brain_tumor_comp/comp\\\\sub-PAT01\\\\ses-preop\\\\coord\\\\sub-PAT01_nodes.tsv', 'C:/Users/dinar/Desktop/brain_tumor_comp/comp\\\\sub-PAT02\\\\ses-postop\\\\coord\\\\sub-PAT02_labels.json', 'C:/Users/dinar/Desktop/brain_tumor_comp/comp\\\\sub-PAT02\\\\ses-postop\\\\coord\\\\sub-PAT02_labels.tsv', 'C:/Users/dinar/Desktop/brain_tumor_comp/comp\\\\sub-PAT02\\\\ses-postop\\\\coord\\\\sub-PAT02_nodes.json', 'C:/Users/dinar/Desktop/brain_tumor_comp/comp\\\\sub-PAT02\\\\ses-postop\\\\coord\\\\sub-PAT02_nodes.tsv', 'C:/Users/dinar/Desktop/brain_tumor_comp/comp\\\\sub-PAT02\\\\ses-preop\\\\coord\\\\sub-PAT02_labels.json', 'C:/Users/dinar/Desktop/brain_tumor_comp/comp\\\\sub-PAT02\\\\ses-preop\\\\coord\\\\sub-PAT02_labels.tsv', 'C:/Users/dinar/Desktop/brain_tumor_comp/comp\\\\sub-PAT02\\\\ses-preop\\\\coord\\\\sub-PAT02_nodes.json', 'C:/Users/dinar/Desktop/brain_tumor_comp/comp\\\\sub-PAT02\\\\ses-preop\\\\coord\\\\sub-PAT02_nodes.tsv', 'C:/Users/dinar/Desktop/brain_tumor_comp/comp\\\\sub-PAT03\\\\ses-postop\\\\coord\\\\sub-PAT03_labels.json', 'C:/Users/dinar/Desktop/brain_tumor_comp/comp\\\\sub-PAT03\\\\ses-postop\\\\coord\\\\sub-PAT03_labels.tsv', 'C:/Users/dinar/Desktop/brain_tumor_comp/comp\\\\sub-PAT03\\\\ses-postop\\\\coord\\\\sub-PAT03_nodes.json', 'C:/Users/dinar/Desktop/brain_tumor_comp/comp\\\\sub-PAT03\\\\ses-postop\\\\coord\\\\sub-PAT03_nodes.tsv', 'C:/Users/dinar/Desktop/brain_tumor_comp/comp\\\\sub-PAT03\\\\ses-preop\\\\coord\\\\sub-PAT03_labels.json', 'C:/Users/dinar/Desktop/brain_tumor_comp/comp\\\\sub-PAT03\\\\ses-preop\\\\coord\\\\sub-PAT03_labels.tsv', 'C:/Users/dinar/Desktop/brain_tumor_comp/comp\\\\sub-PAT03\\\\ses-preop\\\\coord\\\\sub-PAT03_nodes.json', 'C:/Users/dinar/Desktop/brain_tumor_comp/comp\\\\sub-PAT03\\\\ses-preop\\\\coord\\\\sub-PAT03_nodes.tsv', 'C:/Users/dinar/Desktop/brain_tumor_comp/comp\\\\sub-PAT05\\\\ses-postop\\\\coord\\\\sub-PAT05_labels.json', 'C:/Users/dinar/Desktop/brain_tumor_comp/comp\\\\sub-PAT05\\\\ses-postop\\\\coord\\\\sub-PAT05_labels.tsv', 'C:/Users/dinar/Desktop/brain_tumor_comp/comp\\\\sub-PAT05\\\\ses-postop\\\\coord\\\\sub-PAT05_nodes.json', 'C:/Users/dinar/Desktop/brain_tumor_comp/comp\\\\sub-PAT05\\\\ses-postop\\\\coord\\\\sub-PAT05_nodes.tsv', 'C:/Users/dinar/Desktop/brain_tumor_comp/comp\\\\sub-PAT05\\\\ses-preop\\\\coord\\\\sub-PAT05_labels.json', 'C:/Users/dinar/Desktop/brain_tumor_comp/comp\\\\sub-PAT05\\\\ses-preop\\\\coord\\\\sub-PAT05_labels.tsv', 'C:/Users/dinar/Desktop/brain_tumor_comp/comp\\\\sub-PAT05\\\\ses-preop\\\\coord\\\\sub-PAT05_nodes.json', 'C:/Users/dinar/Desktop/brain_tumor_comp/comp\\\\sub-PAT05\\\\ses-preop\\\\coord\\\\sub-PAT05_nodes.tsv', 'C:/Users/dinar/Desktop/brain_tumor_comp/comp\\\\sub-PAT06\\\\ses-postop\\\\coord\\\\sub-PAT06_labels.json', 'C:/Users/dinar/Desktop/brain_tumor_comp/comp\\\\sub-PAT06\\\\ses-postop\\\\coord\\\\sub-PAT06_labels.tsv', 'C:/Users/dinar/Desktop/brain_tumor_comp/comp\\\\sub-PAT06\\\\ses-postop\\\\coord\\\\sub-PAT06_nodes.json', 'C:/Users/dinar/Desktop/brain_tumor_comp/comp\\\\sub-PAT06\\\\ses-postop\\\\coord\\\\sub-PAT06_nodes.tsv', 'C:/Users/dinar/Desktop/brain_tumor_comp/comp\\\\sub-PAT06\\\\ses-preop\\\\coord\\\\sub-PAT06_labels.json', 'C:/Users/dinar/Desktop/brain_tumor_comp/comp\\\\sub-PAT06\\\\ses-preop\\\\coord\\\\sub-PAT06_labels.tsv', 'C:/Users/dinar/Desktop/brain_tumor_comp/comp\\\\sub-PAT06\\\\ses-preop\\\\coord\\\\sub-PAT06_nodes.json', 'C:/Users/dinar/Desktop/brain_tumor_comp/comp\\\\sub-PAT06\\\\ses-preop\\\\coord\\\\sub-PAT06_nodes.tsv', 'C:/Users/dinar/Desktop/brain_tumor_comp/comp\\\\sub-PAT07\\\\ses-postop\\\\coord\\\\sub-PAT07_labels.json', 'C:/Users/dinar/Desktop/brain_tumor_comp/comp\\\\sub-PAT07\\\\ses-postop\\\\coord\\\\sub-PAT07_labels.tsv', 'C:/Users/dinar/Desktop/brain_tumor_comp/comp\\\\sub-PAT07\\\\ses-postop\\\\coord\\\\sub-PAT07_nodes.json', 'C:/Users/dinar/Desktop/brain_tumor_comp/comp\\\\sub-PAT07\\\\ses-postop\\\\coord\\\\sub-PAT07_nodes.tsv', 'C:/Users/dinar/Desktop/brain_tumor_comp/comp\\\\sub-PAT07\\\\ses-preop\\\\coord\\\\sub-PAT07_labels.json', 'C:/Users/dinar/Desktop/brain_tumor_comp/comp\\\\sub-PAT07\\\\ses-preop\\\\coord\\\\sub-PAT07_labels.tsv', 'C:/Users/dinar/Desktop/brain_tumor_comp/comp\\\\sub-PAT07\\\\ses-preop\\\\coord\\\\sub-PAT07_nodes.json', 'C:/Users/dinar/Desktop/brain_tumor_comp/comp\\\\sub-PAT07\\\\ses-preop\\\\coord\\\\sub-PAT07_nodes.tsv', 'C:/Users/dinar/Desktop/brain_tumor_comp/comp\\\\sub-PAT08\\\\ses-postop\\\\coord\\\\sub-PAT08_labels.json', 'C:/Users/dinar/Desktop/brain_tumor_comp/comp\\\\sub-PAT08\\\\ses-postop\\\\coord\\\\sub-PAT08_labels.tsv', 'C:/Users/dinar/Desktop/brain_tumor_comp/comp\\\\sub-PAT08\\\\ses-postop\\\\coord\\\\sub-PAT08_nodes.json', 'C:/Users/dinar/Desktop/brain_tumor_comp/comp\\\\sub-PAT08\\\\ses-postop\\\\coord\\\\sub-PAT08_nodes.tsv', 'C:/Users/dinar/Desktop/brain_tumor_comp/comp\\\\sub-PAT08\\\\ses-preop\\\\coord\\\\sub-PAT08_labels.json', 'C:/Users/dinar/Desktop/brain_tumor_comp/comp\\\\sub-PAT08\\\\ses-preop\\\\coord\\\\sub-PAT08_labels.tsv', 'C:/Users/dinar/Desktop/brain_tumor_comp/comp\\\\sub-PAT08\\\\ses-preop\\\\coord\\\\sub-PAT08_nodes.json', 'C:/Users/dinar/Desktop/brain_tumor_comp/comp\\\\sub-PAT08\\\\ses-preop\\\\coord\\\\sub-PAT08_nodes.tsv', 'C:/Users/dinar/Desktop/brain_tumor_comp/comp\\\\sub-PAT10\\\\ses-postop\\\\coord\\\\sub-PAT10_labels.json', 'C:/Users/dinar/Desktop/brain_tumor_comp/comp\\\\sub-PAT10\\\\ses-postop\\\\coord\\\\sub-PAT10_labels.tsv', 'C:/Users/dinar/Desktop/brain_tumor_comp/comp\\\\sub-PAT10\\\\ses-postop\\\\coord\\\\sub-PAT10_nodes.json', 'C:/Users/dinar/Desktop/brain_tumor_comp/comp\\\\sub-PAT10\\\\ses-postop\\\\coord\\\\sub-PAT10_nodes.tsv', 'C:/Users/dinar/Desktop/brain_tumor_comp/comp\\\\sub-PAT10\\\\ses-preop\\\\coord\\\\sub-PAT10_labels.json', 'C:/Users/dinar/Desktop/brain_tumor_comp/comp\\\\sub-PAT10\\\\ses-preop\\\\coord\\\\sub-PAT10_labels.tsv', 'C:/Users/dinar/Desktop/brain_tumor_comp/comp\\\\sub-PAT10\\\\ses-preop\\\\coord\\\\sub-PAT10_nodes.json', 'C:/Users/dinar/Desktop/brain_tumor_comp/comp\\\\sub-PAT10\\\\ses-preop\\\\coord\\\\sub-PAT10_nodes.tsv', 'C:/Users/dinar/Desktop/brain_tumor_comp/comp\\\\sub-PAT11\\\\ses-preop\\\\coord\\\\sub-PAT11_labels.json', 'C:/Users/dinar/Desktop/brain_tumor_comp/comp\\\\sub-PAT11\\\\ses-preop\\\\coord\\\\sub-PAT11_labels.tsv', 'C:/Users/dinar/Desktop/brain_tumor_comp/comp\\\\sub-PAT11\\\\ses-preop\\\\coord\\\\sub-PAT11_nodes.json', 'C:/Users/dinar/Desktop/brain_tumor_comp/comp\\\\sub-PAT11\\\\ses-preop\\\\coord\\\\sub-PAT11_nodes.tsv', 'C:/Users/dinar/Desktop/brain_tumor_comp/comp\\\\sub-PAT13\\\\ses-postop\\\\coord\\\\sub-PAT13_labels.json', 'C:/Users/dinar/Desktop/brain_tumor_comp/comp\\\\sub-PAT13\\\\ses-postop\\\\coord\\\\sub-PAT13_labels.tsv', 'C:/Users/dinar/Desktop/brain_tumor_comp/comp\\\\sub-PAT13\\\\ses-postop\\\\coord\\\\sub-PAT13_nodes.json', 'C:/Users/dinar/Desktop/brain_tumor_comp/comp\\\\sub-PAT13\\\\ses-postop\\\\coord\\\\sub-PAT13_nodes.tsv', 'C:/Users/dinar/Desktop/brain_tumor_comp/comp\\\\sub-PAT13\\\\ses-preop\\\\coord\\\\sub-PAT13_labels.json', 'C:/Users/dinar/Desktop/brain_tumor_comp/comp\\\\sub-PAT13\\\\ses-preop\\\\coord\\\\sub-PAT13_labels.tsv', 'C:/Users/dinar/Desktop/brain_tumor_comp/comp\\\\sub-PAT13\\\\ses-preop\\\\coord\\\\sub-PAT13_nodes.json', 'C:/Users/dinar/Desktop/brain_tumor_comp/comp\\\\sub-PAT13\\\\ses-preop\\\\coord\\\\sub-PAT13_nodes.tsv', 'C:/Users/dinar/Desktop/brain_tumor_comp/comp\\\\sub-PAT14\\\\ses-preop\\\\coord\\\\sub-PAT14_labels.json', 'C:/Users/dinar/Desktop/brain_tumor_comp/comp\\\\sub-PAT14\\\\ses-preop\\\\coord\\\\sub-PAT14_labels.tsv', 'C:/Users/dinar/Desktop/brain_tumor_comp/comp\\\\sub-PAT14\\\\ses-preop\\\\coord\\\\sub-PAT14_nodes.json', 'C:/Users/dinar/Desktop/brain_tumor_comp/comp\\\\sub-PAT14\\\\ses-preop\\\\coord\\\\sub-PAT14_nodes.tsv', 'C:/Users/dinar/Desktop/brain_tumor_comp/comp\\\\sub-PAT15\\\\ses-postop\\\\coord\\\\sub-PAT15_labels.json', 'C:/Users/dinar/Desktop/brain_tumor_comp/comp\\\\sub-PAT15\\\\ses-postop\\\\coord\\\\sub-PAT15_labels.tsv', 'C:/Users/dinar/Desktop/brain_tumor_comp/comp\\\\sub-PAT15\\\\ses-postop\\\\coord\\\\sub-PAT15_nodes.json', 'C:/Users/dinar/Desktop/brain_tumor_comp/comp\\\\sub-PAT15\\\\ses-postop\\\\coord\\\\sub-PAT15_nodes.tsv', 'C:/Users/dinar/Desktop/brain_tumor_comp/comp\\\\sub-PAT15\\\\ses-preop\\\\coord\\\\sub-PAT15_labels.json', 'C:/Users/dinar/Desktop/brain_tumor_comp/comp\\\\sub-PAT15\\\\ses-preop\\\\coord\\\\sub-PAT15_labels.tsv', 'C:/Users/dinar/Desktop/brain_tumor_comp/comp\\\\sub-PAT15\\\\ses-preop\\\\coord\\\\sub-PAT15_nodes.json', 'C:/Users/dinar/Desktop/brain_tumor_comp/comp\\\\sub-PAT15\\\\ses-preop\\\\coord\\\\sub-PAT15_nodes.tsv', 'C:/Users/dinar/Desktop/brain_tumor_comp/comp\\\\sub-PAT16\\\\ses-postop\\\\coord\\\\sub-PAT16_labels.json', 'C:/Users/dinar/Desktop/brain_tumor_comp/comp\\\\sub-PAT16\\\\ses-postop\\\\coord\\\\sub-PAT16_labels.tsv', 'C:/Users/dinar/Desktop/brain_tumor_comp/comp\\\\sub-PAT16\\\\ses-postop\\\\coord\\\\sub-PAT16_nodes.json', 'C:/Users/dinar/Desktop/brain_tumor_comp/comp\\\\sub-PAT16\\\\ses-postop\\\\coord\\\\sub-PAT16_nodes.tsv', 'C:/Users/dinar/Desktop/brain_tumor_comp/comp\\\\sub-PAT16\\\\ses-preop\\\\coord\\\\sub-PAT16_labels.json', 'C:/Users/dinar/Desktop/brain_tumor_comp/comp\\\\sub-PAT16\\\\ses-preop\\\\coord\\\\sub-PAT16_labels.tsv', 'C:/Users/dinar/Desktop/brain_tumor_comp/comp\\\\sub-PAT16\\\\ses-preop\\\\coord\\\\sub-PAT16_nodes.json', 'C:/Users/dinar/Desktop/brain_tumor_comp/comp\\\\sub-PAT16\\\\ses-preop\\\\coord\\\\sub-PAT16_nodes.tsv', 'C:/Users/dinar/Desktop/brain_tumor_comp/comp\\\\sub-PAT17\\\\ses-postop\\\\coord\\\\sub-PAT17_labels.json', 'C:/Users/dinar/Desktop/brain_tumor_comp/comp\\\\sub-PAT17\\\\ses-postop\\\\coord\\\\sub-PAT17_labels.tsv', 'C:/Users/dinar/Desktop/brain_tumor_comp/comp\\\\sub-PAT17\\\\ses-postop\\\\coord\\\\sub-PAT17_nodes.json', 'C:/Users/dinar/Desktop/brain_tumor_comp/comp\\\\sub-PAT17\\\\ses-postop\\\\coord\\\\sub-PAT17_nodes.tsv', 'C:/Users/dinar/Desktop/brain_tumor_comp/comp\\\\sub-PAT17\\\\ses-preop\\\\coord\\\\sub-PAT17_labels.json', 'C:/Users/dinar/Desktop/brain_tumor_comp/comp\\\\sub-PAT17\\\\ses-preop\\\\coord\\\\sub-PAT17_labels.tsv', 'C:/Users/dinar/Desktop/brain_tumor_comp/comp\\\\sub-PAT17\\\\ses-preop\\\\coord\\\\sub-PAT17_nodes.json', 'C:/Users/dinar/Desktop/brain_tumor_comp/comp\\\\sub-PAT17\\\\ses-preop\\\\coord\\\\sub-PAT17_nodes.tsv', 'C:/Users/dinar/Desktop/brain_tumor_comp/comp\\\\sub-PAT19\\\\ses-preop\\\\coord\\\\sub-PAT19_labels.json', 'C:/Users/dinar/Desktop/brain_tumor_comp/comp\\\\sub-PAT19\\\\ses-preop\\\\coord\\\\sub-PAT19_labels.tsv', 'C:/Users/dinar/Desktop/brain_tumor_comp/comp\\\\sub-PAT19\\\\ses-preop\\\\coord\\\\sub-PAT19_nodes.json', 'C:/Users/dinar/Desktop/brain_tumor_comp/comp\\\\sub-PAT19\\\\ses-preop\\\\coord\\\\sub-PAT19_nodes.tsv', 'C:/Users/dinar/Desktop/brain_tumor_comp/comp\\\\sub-PAT20\\\\ses-postop\\\\coord\\\\sub-PAT20_labels.json', 'C:/Users/dinar/Desktop/brain_tumor_comp/comp\\\\sub-PAT20\\\\ses-postop\\\\coord\\\\sub-PAT20_labels.tsv', 'C:/Users/dinar/Desktop/brain_tumor_comp/comp\\\\sub-PAT20\\\\ses-postop\\\\coord\\\\sub-PAT20_nodes.json', 'C:/Users/dinar/Desktop/brain_tumor_comp/comp\\\\sub-PAT20\\\\ses-postop\\\\coord\\\\sub-PAT20_nodes.tsv', 'C:/Users/dinar/Desktop/brain_tumor_comp/comp\\\\sub-PAT20\\\\ses-preop\\\\coord\\\\sub-PAT20_labels.json', 'C:/Users/dinar/Desktop/brain_tumor_comp/comp\\\\sub-PAT20\\\\ses-preop\\\\coord\\\\sub-PAT20_labels.tsv', 'C:/Users/dinar/Desktop/brain_tumor_comp/comp\\\\sub-PAT20\\\\ses-preop\\\\coord\\\\sub-PAT20_nodes.json', 'C:/Users/dinar/Desktop/brain_tumor_comp/comp\\\\sub-PAT20\\\\ses-preop\\\\coord\\\\sub-PAT20_nodes.tsv', 'C:/Users/dinar/Desktop/brain_tumor_comp/comp\\\\sub-PAT22\\\\ses-preop\\\\coord\\\\sub-PAT22_labels.json', 'C:/Users/dinar/Desktop/brain_tumor_comp/comp\\\\sub-PAT22\\\\ses-preop\\\\coord\\\\sub-PAT22_labels.tsv', 'C:/Users/dinar/Desktop/brain_tumor_comp/comp\\\\sub-PAT22\\\\ses-preop\\\\coord\\\\sub-PAT22_nodes.json', 'C:/Users/dinar/Desktop/brain_tumor_comp/comp\\\\sub-PAT22\\\\ses-preop\\\\coord\\\\sub-PAT22_nodes.tsv', 'C:/Users/dinar/Desktop/brain_tumor_comp/comp\\\\sub-PAT23\\\\ses-preop\\\\coord\\\\sub-PAT23_labels.json', 'C:/Users/dinar/Desktop/brain_tumor_comp/comp\\\\sub-PAT23\\\\ses-preop\\\\coord\\\\sub-PAT23_labels.tsv', 'C:/Users/dinar/Desktop/brain_tumor_comp/comp\\\\sub-PAT23\\\\ses-preop\\\\coord\\\\sub-PAT23_nodes.json', 'C:/Users/dinar/Desktop/brain_tumor_comp/comp\\\\sub-PAT23\\\\ses-preop\\\\coord\\\\sub-PAT23_nodes.tsv', 'C:/Users/dinar/Desktop/brain_tumor_comp/comp\\\\sub-PAT24\\\\ses-postop\\\\coord\\\\sub-PAT24_labels.json', 'C:/Users/dinar/Desktop/brain_tumor_comp/comp\\\\sub-PAT24\\\\ses-postop\\\\coord\\\\sub-PAT24_labels.tsv', 'C:/Users/dinar/Desktop/brain_tumor_comp/comp\\\\sub-PAT24\\\\ses-postop\\\\coord\\\\sub-PAT24_nodes.json', 'C:/Users/dinar/Desktop/brain_tumor_comp/comp\\\\sub-PAT24\\\\ses-postop\\\\coord\\\\sub-PAT24_nodes.tsv', 'C:/Users/dinar/Desktop/brain_tumor_comp/comp\\\\sub-PAT24\\\\ses-preop\\\\coord\\\\sub-PAT24_labels.json', 'C:/Users/dinar/Desktop/brain_tumor_comp/comp\\\\sub-PAT24\\\\ses-preop\\\\coord\\\\sub-PAT24_labels.tsv', 'C:/Users/dinar/Desktop/brain_tumor_comp/comp\\\\sub-PAT24\\\\ses-preop\\\\coord\\\\sub-PAT24_nodes.json', 'C:/Users/dinar/Desktop/brain_tumor_comp/comp\\\\sub-PAT24\\\\ses-preop\\\\coord\\\\sub-PAT24_nodes.tsv', 'C:/Users/dinar/Desktop/brain_tumor_comp/comp\\\\sub-PAT25\\\\ses-postop\\\\coord\\\\sub-PAT25_labels.json', 'C:/Users/dinar/Desktop/brain_tumor_comp/comp\\\\sub-PAT25\\\\ses-postop\\\\coord\\\\sub-PAT25_labels.tsv', 'C:/Users/dinar/Desktop/brain_tumor_comp/comp\\\\sub-PAT25\\\\ses-postop\\\\coord\\\\sub-PAT25_nodes.json', 'C:/Users/dinar/Desktop/brain_tumor_comp/comp\\\\sub-PAT25\\\\ses-postop\\\\coord\\\\sub-PAT25_nodes.tsv', 'C:/Users/dinar/Desktop/brain_tumor_comp/comp\\\\sub-PAT25\\\\ses-preop\\\\coord\\\\sub-PAT25_labels.json', 'C:/Users/dinar/Desktop/brain_tumor_comp/comp\\\\sub-PAT25\\\\ses-preop\\\\coord\\\\sub-PAT25_labels.tsv', 'C:/Users/dinar/Desktop/brain_tumor_comp/comp\\\\sub-PAT25\\\\ses-preop\\\\coord\\\\sub-PAT25_nodes.json', 'C:/Users/dinar/Desktop/brain_tumor_comp/comp\\\\sub-PAT25\\\\ses-preop\\\\coord\\\\sub-PAT25_nodes.tsv', 'C:/Users/dinar/Desktop/brain_tumor_comp/comp\\\\sub-PAT26\\\\ses-postop\\\\coord\\\\sub-PAT26_labels.json', 'C:/Users/dinar/Desktop/brain_tumor_comp/comp\\\\sub-PAT26\\\\ses-postop\\\\coord\\\\sub-PAT26_labels.tsv', 'C:/Users/dinar/Desktop/brain_tumor_comp/comp\\\\sub-PAT26\\\\ses-postop\\\\coord\\\\sub-PAT26_nodes.json', 'C:/Users/dinar/Desktop/brain_tumor_comp/comp\\\\sub-PAT26\\\\ses-postop\\\\coord\\\\sub-PAT26_nodes.tsv', 'C:/Users/dinar/Desktop/brain_tumor_comp/comp\\\\sub-PAT26\\\\ses-preop\\\\coord\\\\sub-PAT26_labels.json', 'C:/Users/dinar/Desktop/brain_tumor_comp/comp\\\\sub-PAT26\\\\ses-preop\\\\coord\\\\sub-PAT26_labels.tsv', 'C:/Users/dinar/Desktop/brain_tumor_comp/comp\\\\sub-PAT26\\\\ses-preop\\\\coord\\\\sub-PAT26_nodes.json', 'C:/Users/dinar/Desktop/brain_tumor_comp/comp\\\\sub-PAT26\\\\ses-preop\\\\coord\\\\sub-PAT26_nodes.tsv', 'C:/Users/dinar/Desktop/brain_tumor_comp/comp\\\\sub-PAT27\\\\ses-preop\\\\coord\\\\sub-PAT27_labels.json', 'C:/Users/dinar/Desktop/brain_tumor_comp/comp\\\\sub-PAT27\\\\ses-preop\\\\coord\\\\sub-PAT27_labels.tsv', 'C:/Users/dinar/Desktop/brain_tumor_comp/comp\\\\sub-PAT27\\\\ses-preop\\\\coord\\\\sub-PAT27_nodes.json', 'C:/Users/dinar/Desktop/brain_tumor_comp/comp\\\\sub-PAT27\\\\ses-preop\\\\coord\\\\sub-PAT27_nodes.tsv', 'C:/Users/dinar/Desktop/brain_tumor_comp/comp\\\\sub-PAT28\\\\ses-postop\\\\coord\\\\sub-PAT28_labels.json', 'C:/Users/dinar/Desktop/brain_tumor_comp/comp\\\\sub-PAT28\\\\ses-postop\\\\coord\\\\sub-PAT28_labels.tsv', 'C:/Users/dinar/Desktop/brain_tumor_comp/comp\\\\sub-PAT28\\\\ses-postop\\\\coord\\\\sub-PAT28_nodes.json', 'C:/Users/dinar/Desktop/brain_tumor_comp/comp\\\\sub-PAT28\\\\ses-postop\\\\coord\\\\sub-PAT28_nodes.tsv', 'C:/Users/dinar/Desktop/brain_tumor_comp/comp\\\\sub-PAT28\\\\ses-preop\\\\coord\\\\sub-PAT28_labels.json', 'C:/Users/dinar/Desktop/brain_tumor_comp/comp\\\\sub-PAT28\\\\ses-preop\\\\coord\\\\sub-PAT28_labels.tsv', 'C:/Users/dinar/Desktop/brain_tumor_comp/comp\\\\sub-PAT28\\\\ses-preop\\\\coord\\\\sub-PAT28_nodes.json', 'C:/Users/dinar/Desktop/brain_tumor_comp/comp\\\\sub-PAT28\\\\ses-preop\\\\coord\\\\sub-PAT28_nodes.tsv', 'C:/Users/dinar/Desktop/brain_tumor_comp/comp\\\\sub-PAT29\\\\ses-preop\\\\coord\\\\sub-PAT29_labels.json', 'C:/Users/dinar/Desktop/brain_tumor_comp/comp\\\\sub-PAT29\\\\ses-preop\\\\coord\\\\sub-PAT29_labels.tsv', 'C:/Users/dinar/Desktop/brain_tumor_comp/comp\\\\sub-PAT29\\\\ses-preop\\\\coord\\\\sub-PAT29_nodes.json', 'C:/Users/dinar/Desktop/brain_tumor_comp/comp\\\\sub-PAT29\\\\ses-preop\\\\coord\\\\sub-PAT29_nodes.tsv', 'C:/Users/dinar/Desktop/brain_tumor_comp/comp\\\\sub-PAT31\\\\ses-preop\\\\coord\\\\sub-PAT31_labels.json', 'C:/Users/dinar/Desktop/brain_tumor_comp/comp\\\\sub-PAT31\\\\ses-preop\\\\coord\\\\sub-PAT31_labels.tsv', 'C:/Users/dinar/Desktop/brain_tumor_comp/comp\\\\sub-PAT31\\\\ses-preop\\\\coord\\\\sub-PAT31_nodes.json', 'C:/Users/dinar/Desktop/brain_tumor_comp/comp\\\\sub-PAT31\\\\ses-preop\\\\coord\\\\sub-PAT31_nodes.tsv']\n"
     ]
    }
   ],
   "source": [
    "from comp_validator import comp_validator\n",
    "\n",
    "# comp_validator.validate('C:\\\\Users\\\\dinar\\\\Desktop\\\\test\\\\output')\n",
    "\n",
    "comp_validator.validate('C:/Users/dinar/Desktop/brain_tumor_comp/comp')"
   ]
  },
  {
   "cell_type": "code",
   "execution_count": null,
   "metadata": {},
   "outputs": [],
   "source": []
  },
  {
   "cell_type": "code",
   "execution_count": 4,
   "metadata": {},
   "outputs": [
    {
     "data": {
      "text/html": [
       "<div>\n",
       "<style scoped>\n",
       "    .dataframe tbody tr th:only-of-type {\n",
       "        vertical-align: middle;\n",
       "    }\n",
       "\n",
       "    .dataframe tbody tr th {\n",
       "        vertical-align: top;\n",
       "    }\n",
       "\n",
       "    .dataframe thead th {\n",
       "        text-align: right;\n",
       "    }\n",
       "</style>\n",
       "<table border=\"1\" class=\"dataframe\">\n",
       "  <thead>\n",
       "    <tr style=\"text-align: right;\">\n",
       "      <th></th>\n",
       "      <th>0</th>\n",
       "      <th>1</th>\n",
       "      <th>2</th>\n",
       "    </tr>\n",
       "  </thead>\n",
       "  <tbody>\n",
       "    <tr>\n",
       "      <th>0</th>\n",
       "      <td>-56.2627</td>\n",
       "      <td>-31.799300</td>\n",
       "      <td>30.31640</td>\n",
       "    </tr>\n",
       "    <tr>\n",
       "      <th>1</th>\n",
       "      <td>-1.9122</td>\n",
       "      <td>14.532500</td>\n",
       "      <td>61.51030</td>\n",
       "    </tr>\n",
       "    <tr>\n",
       "      <th>2</th>\n",
       "      <td>-35.5660</td>\n",
       "      <td>0.004865</td>\n",
       "      <td>72.42080</td>\n",
       "    </tr>\n",
       "    <tr>\n",
       "      <th>3</th>\n",
       "      <td>-8.8673</td>\n",
       "      <td>-75.491800</td>\n",
       "      <td>19.94630</td>\n",
       "    </tr>\n",
       "    <tr>\n",
       "      <th>4</th>\n",
       "      <td>-23.9529</td>\n",
       "      <td>5.120000</td>\n",
       "      <td>-0.92932</td>\n",
       "    </tr>\n",
       "    <tr>\n",
       "      <th>...</th>\n",
       "      <td>...</td>\n",
       "      <td>...</td>\n",
       "      <td>...</td>\n",
       "    </tr>\n",
       "    <tr>\n",
       "      <th>63</th>\n",
       "      <td>48.2343</td>\n",
       "      <td>-38.361900</td>\n",
       "      <td>46.18660</td>\n",
       "    </tr>\n",
       "    <tr>\n",
       "      <th>64</th>\n",
       "      <td>12.8742</td>\n",
       "      <td>70.126400</td>\n",
       "      <td>41.90320</td>\n",
       "    </tr>\n",
       "    <tr>\n",
       "      <th>65</th>\n",
       "      <td>28.1812</td>\n",
       "      <td>26.614500</td>\n",
       "      <td>5.16900</td>\n",
       "    </tr>\n",
       "    <tr>\n",
       "      <th>66</th>\n",
       "      <td>41.1679</td>\n",
       "      <td>-18.461600</td>\n",
       "      <td>30.52650</td>\n",
       "    </tr>\n",
       "    <tr>\n",
       "      <th>67</th>\n",
       "      <td>34.6454</td>\n",
       "      <td>2.304000</td>\n",
       "      <td>29.44910</td>\n",
       "    </tr>\n",
       "  </tbody>\n",
       "</table>\n",
       "<p>68 rows × 3 columns</p>\n",
       "</div>"
      ],
      "text/plain": [
       "          0          1         2\n",
       "0  -56.2627 -31.799300  30.31640\n",
       "1   -1.9122  14.532500  61.51030\n",
       "2  -35.5660   0.004865  72.42080\n",
       "3   -8.8673 -75.491800  19.94630\n",
       "4  -23.9529   5.120000  -0.92932\n",
       "..      ...        ...       ...\n",
       "63  48.2343 -38.361900  46.18660\n",
       "64  12.8742  70.126400  41.90320\n",
       "65  28.1812  26.614500   5.16900\n",
       "66  41.1679 -18.461600  30.52650\n",
       "67  34.6454   2.304000  29.44910\n",
       "\n",
       "[68 rows x 3 columns]"
      ]
     },
     "execution_count": 4,
     "metadata": {},
     "output_type": "execute_result"
    }
   ],
   "source": [
    "import pandas as pd\n",
    "\n",
    "node0 = 'C:/Users/dinar/Desktop/brain_tumor_comp/comp\\\\sub-CON01\\\\ses-preop\\\\coord\\\\sub-CON01_nodes.tsv'\n",
    "node1 = 'C:/Users/dinar/Desktop/brain_tumor_comp/comp\\\\sub-CON02\\\\ses-postop\\\\coord\\\\sub-CON02_nodes.tsv'\n",
    "\n",
    "node0 = pd.read_csv(node0, header=None, sep='\\t')\n",
    "node1 = pd.read_csv(node1, header=None, sep='\\t')\n",
    "\n",
    "node1"
   ]
  },
  {
   "cell_type": "code",
   "execution_count": 6,
   "metadata": {},
   "outputs": [
    {
     "data": {
      "text/plain": [
       "False"
      ]
     },
     "execution_count": 6,
     "metadata": {},
     "output_type": "execute_result"
    }
   ],
   "source": [
    "node0.equals(node1)"
   ]
  },
  {
   "cell_type": "code",
   "execution_count": null,
   "metadata": {},
   "outputs": [],
   "source": []
  },
  {
   "cell_type": "code",
   "execution_count": 9,
   "metadata": {},
   "outputs": [
    {
     "name": "stdout",
     "output_type": "stream",
     "text": [
      "68 1\n"
     ]
    }
   ],
   "source": [
    "import pandas as pd\n",
    "\n",
    "r, c = pd.read_csv('C:/Users/dinar/Desktop/conversions/brain_tumor/sourcedata/sub-CON01/ses-preop/weights.txt', sep='\\t', header=None).shape\n",
    "print(r, c)\n"
   ]
  },
  {
   "cell_type": "code",
   "execution_count": 13,
   "metadata": {},
   "outputs": [
    {
     "data": {
      "text/plain": [
       "(1, 1)"
      ]
     },
     "execution_count": 13,
     "metadata": {},
     "output_type": "execute_result"
    }
   ],
   "source": [
    "pd.read_csv('C:/Users/dinar/Desktop/test/output/weights.txt', sep='\\t', header=None).shape"
   ]
  },
  {
   "cell_type": "code",
   "execution_count": 15,
   "metadata": {},
   "outputs": [
    {
     "data": {
      "text/plain": [
       "'C:/Users/dinar/Desktop/test/output'"
      ]
     },
     "execution_count": 15,
     "metadata": {},
     "output_type": "execute_result"
    }
   ],
   "source": [
    "import os \n",
    "\n",
    "os.path.dirname('C:/Users/dinar/Desktop/test/output/weights.txt')"
   ]
  },
  {
   "cell_type": "code",
   "execution_count": null,
   "metadata": {},
   "outputs": [],
   "source": []
  },
  {
   "cell_type": "code",
   "execution_count": null,
   "metadata": {},
   "outputs": [],
   "source": []
  },
  {
   "cell_type": "code",
   "execution_count": 3,
   "metadata": {},
   "outputs": [],
   "source": [
    "import pandas as pd \n",
    "\n",
    "file = pd.read_csv('C:/Users/dinar/Desktop/incf_edu_case/output/participants.tsv', sep='\\t')"
   ]
  },
  {
   "cell_type": "code",
   "execution_count": 9,
   "metadata": {},
   "outputs": [
    {
     "data": {
      "text/plain": [
       "numpy.float64"
      ]
     },
     "execution_count": 9,
     "metadata": {},
     "output_type": "execute_result"
    }
   ],
   "source": [
    "type(file['age'][0])"
   ]
  },
  {
   "cell_type": "code",
   "execution_count": 5,
   "metadata": {},
   "outputs": [
    {
     "name": "stdout",
     "output_type": "stream",
     "text": [
      "<class 'float'> nan\n",
      "['sub-01']\n"
     ]
    }
   ],
   "source": [
    "import re\n",
    "\n",
    "for idx, content in file.iterrows():\n",
    "    print(type(content['species']), content['species'])\n",
    "    print(re.findall(r'sub-[0-9a-zA-Z]+', content['participant_id'], flags=re.IGNORECASE))"
   ]
  },
  {
   "cell_type": "code",
   "execution_count": 6,
   "metadata": {},
   "outputs": [
    {
     "data": {
      "text/plain": [
       "nan"
      ]
     },
     "execution_count": 6,
     "metadata": {},
     "output_type": "execute_result"
    }
   ],
   "source": [
    "name = file['species'].unique()[0]\n",
    "name"
   ]
  },
  {
   "cell_type": "code",
   "execution_count": 7,
   "metadata": {},
   "outputs": [
    {
     "data": {
      "text/plain": [
       "numpy.float64"
      ]
     },
     "execution_count": 7,
     "metadata": {},
     "output_type": "execute_result"
    }
   ],
   "source": [
    "type(name)"
   ]
  },
  {
   "cell_type": "code",
   "execution_count": 9,
   "metadata": {},
   "outputs": [
    {
     "data": {
      "text/plain": [
       "True"
      ]
     },
     "execution_count": 9,
     "metadata": {},
     "output_type": "execute_result"
    }
   ],
   "source": [
    "'participant_id' in file.columns"
   ]
  },
  {
   "cell_type": "code",
   "execution_count": null,
   "metadata": {},
   "outputs": [],
   "source": []
  }
 ],
 "metadata": {
  "kernelspec": {
   "display_name": "Python 3 (ipykernel)",
   "language": "python",
   "name": "python3"
  },
  "language_info": {
   "codemirror_mode": {
    "name": "ipython",
    "version": 3
   },
   "file_extension": ".py",
   "mimetype": "text/x-python",
   "name": "python",
   "nbconvert_exporter": "python",
   "pygments_lexer": "ipython3",
   "version": "3.9.12"
  }
 },
 "nbformat": 4,
 "nbformat_minor": 1
}