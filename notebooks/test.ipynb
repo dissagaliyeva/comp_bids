{
 "cells": [
  {
   "cell_type": "code",
   "execution_count": 1,
   "metadata": {},
   "outputs": [],
   "source": [
    "import sys \n",
    "\n",
    "sys.path.append('..')"
   ]
  },
  {
   "cell_type": "code",
   "execution_count": 2,
   "metadata": {},
   "outputs": [
    {
     "name": "stdout",
     "output_type": "stream",
     "text": [
      "['C:/Users/dinar/Desktop/brain_tumor_comp/comp\\\\sub-CON01\\\\ses-preop\\\\coord\\\\sub-CON01_labels.json', 'C:/Users/dinar/Desktop/brain_tumor_comp/comp\\\\sub-CON01\\\\ses-preop\\\\coord\\\\sub-CON01_labels.tsv', 'C:/Users/dinar/Desktop/brain_tumor_comp/comp\\\\sub-CON01\\\\ses-preop\\\\coord\\\\sub-CON01_nodes.json', 'C:/Users/dinar/Desktop/brain_tumor_comp/comp\\\\sub-CON01\\\\ses-preop\\\\coord\\\\sub-CON01_nodes.tsv', 'C:/Users/dinar/Desktop/brain_tumor_comp/comp\\\\sub-CON02\\\\ses-postop\\\\coord\\\\sub-CON02_labels.json', 'C:/Users/dinar/Desktop/brain_tumor_comp/comp\\\\sub-CON02\\\\ses-postop\\\\coord\\\\sub-CON02_labels.tsv', 'C:/Users/dinar/Desktop/brain_tumor_comp/comp\\\\sub-CON02\\\\ses-postop\\\\coord\\\\sub-CON02_nodes.json', 'C:/Users/dinar/Desktop/brain_tumor_comp/comp\\\\sub-CON02\\\\ses-postop\\\\coord\\\\sub-CON02_nodes.tsv', 'C:/Users/dinar/Desktop/brain_tumor_comp/comp\\\\sub-CON02\\\\ses-preop\\\\coord\\\\sub-CON02_labels.json', 'C:/Users/dinar/Desktop/brain_tumor_comp/comp\\\\sub-CON02\\\\ses-preop\\\\coord\\\\sub-CON02_labels.tsv', 'C:/Users/dinar/Desktop/brain_tumor_comp/comp\\\\sub-CON02\\\\ses-preop\\\\coord\\\\sub-CON02_nodes.json', 'C:/Users/dinar/Desktop/brain_tumor_comp/comp\\\\sub-CON02\\\\ses-preop\\\\coord\\\\sub-CON02_nodes.tsv', 'C:/Users/dinar/Desktop/brain_tumor_comp/comp\\\\sub-CON03\\\\ses-postop\\\\coord\\\\sub-CON03_labels.json', 'C:/Users/dinar/Desktop/brain_tumor_comp/comp\\\\sub-CON03\\\\ses-postop\\\\coord\\\\sub-CON03_labels.tsv', 'C:/Users/dinar/Desktop/brain_tumor_comp/comp\\\\sub-CON03\\\\ses-postop\\\\coord\\\\sub-CON03_nodes.json', 'C:/Users/dinar/Desktop/brain_tumor_comp/comp\\\\sub-CON03\\\\ses-postop\\\\coord\\\\sub-CON03_nodes.tsv', 'C:/Users/dinar/Desktop/brain_tumor_comp/comp\\\\sub-CON03\\\\ses-preop\\\\coord\\\\sub-CON03_labels.json', 'C:/Users/dinar/Desktop/brain_tumor_comp/comp\\\\sub-CON03\\\\ses-preop\\\\coord\\\\sub-CON03_labels.tsv', 'C:/Users/dinar/Desktop/brain_tumor_comp/comp\\\\sub-CON03\\\\ses-preop\\\\coord\\\\sub-CON03_nodes.json', 'C:/Users/dinar/Desktop/brain_tumor_comp/comp\\\\sub-CON03\\\\ses-preop\\\\coord\\\\sub-CON03_nodes.tsv', 'C:/Users/dinar/Desktop/brain_tumor_comp/comp\\\\sub-CON04\\\\ses-postop\\\\coord\\\\sub-CON04_labels.json', 'C:/Users/dinar/Desktop/brain_tumor_comp/comp\\\\sub-CON04\\\\ses-postop\\\\coord\\\\sub-CON04_labels.tsv', 'C:/Users/dinar/Desktop/brain_tumor_comp/comp\\\\sub-CON04\\\\ses-postop\\\\coord\\\\sub-CON04_nodes.json', 'C:/Users/dinar/Desktop/brain_tumor_comp/comp\\\\sub-CON04\\\\ses-postop\\\\coord\\\\sub-CON04_nodes.tsv', 'C:/Users/dinar/Desktop/brain_tumor_comp/comp\\\\sub-CON04\\\\ses-preop\\\\coord\\\\sub-CON04_labels.json', 'C:/Users/dinar/Desktop/brain_tumor_comp/comp\\\\sub-CON04\\\\ses-preop\\\\coord\\\\sub-CON04_labels.tsv', 'C:/Users/dinar/Desktop/brain_tumor_comp/comp\\\\sub-CON04\\\\ses-preop\\\\coord\\\\sub-CON04_nodes.json', 'C:/Users/dinar/Desktop/brain_tumor_comp/comp\\\\sub-CON04\\\\ses-preop\\\\coord\\\\sub-CON04_nodes.tsv', 'C:/Users/dinar/Desktop/brain_tumor_comp/comp\\\\sub-CON05\\\\ses-postop\\\\coord\\\\sub-CON05_labels.json', 'C:/Users/dinar/Desktop/brain_tumor_comp/comp\\\\sub-CON05\\\\ses-postop\\\\coord\\\\sub-CON05_labels.tsv', 'C:/Users/dinar/Desktop/brain_tumor_comp/comp\\\\sub-CON05\\\\ses-postop\\\\coord\\\\sub-CON05_nodes.json', 'C:/Users/dinar/Desktop/brain_tumor_comp/comp\\\\sub-CON05\\\\ses-postop\\\\coord\\\\sub-CON05_nodes.tsv', 'C:/Users/dinar/Desktop/brain_tumor_comp/comp\\\\sub-CON05\\\\ses-preop\\\\coord\\\\sub-CON05_labels.json', 'C:/Users/dinar/Desktop/brain_tumor_comp/comp\\\\sub-CON05\\\\ses-preop\\\\coord\\\\sub-CON05_labels.tsv', 'C:/Users/dinar/Desktop/brain_tumor_comp/comp\\\\sub-CON05\\\\ses-preop\\\\coord\\\\sub-CON05_nodes.json', 'C:/Users/dinar/Desktop/brain_tumor_comp/comp\\\\sub-CON05\\\\ses-preop\\\\coord\\\\sub-CON05_nodes.tsv', 'C:/Users/dinar/Desktop/brain_tumor_comp/comp\\\\sub-CON06\\\\ses-postop\\\\coord\\\\sub-CON06_labels.json', 'C:/Users/dinar/Desktop/brain_tumor_comp/comp\\\\sub-CON06\\\\ses-postop\\\\coord\\\\sub-CON06_labels.tsv', 'C:/Users/dinar/Desktop/brain_tumor_comp/comp\\\\sub-CON06\\\\ses-postop\\\\coord\\\\sub-CON06_nodes.json', 'C:/Users/dinar/Desktop/brain_tumor_comp/comp\\\\sub-CON06\\\\ses-postop\\\\coord\\\\sub-CON06_nodes.tsv', 'C:/Users/dinar/Desktop/brain_tumor_comp/comp\\\\sub-CON06\\\\ses-preop\\\\coord\\\\sub-CON06_labels.json', 'C:/Users/dinar/Desktop/brain_tumor_comp/comp\\\\sub-CON06\\\\ses-preop\\\\coord\\\\sub-CON06_labels.tsv', 'C:/Users/dinar/Desktop/brain_tumor_comp/comp\\\\sub-CON06\\\\ses-preop\\\\coord\\\\sub-CON06_nodes.json', 'C:/Users/dinar/Desktop/brain_tumor_comp/comp\\\\sub-CON06\\\\ses-preop\\\\coord\\\\sub-CON06_nodes.tsv', 'C:/Users/dinar/Desktop/brain_tumor_comp/comp\\\\sub-CON07\\\\ses-postop\\\\coord\\\\sub-CON07_labels.json', 'C:/Users/dinar/Desktop/brain_tumor_comp/comp\\\\sub-CON07\\\\ses-postop\\\\coord\\\\sub-CON07_labels.tsv', 'C:/Users/dinar/Desktop/brain_tumor_comp/comp\\\\sub-CON07\\\\ses-postop\\\\coord\\\\sub-CON07_nodes.json', 'C:/Users/dinar/Desktop/brain_tumor_comp/comp\\\\sub-CON07\\\\ses-postop\\\\coord\\\\sub-CON07_nodes.tsv', 'C:/Users/dinar/Desktop/brain_tumor_comp/comp\\\\sub-CON07\\\\ses-preop\\\\coord\\\\sub-CON07_labels.json', 'C:/Users/dinar/Desktop/brain_tumor_comp/comp\\\\sub-CON07\\\\ses-preop\\\\coord\\\\sub-CON07_labels.tsv', 'C:/Users/dinar/Desktop/brain_tumor_comp/comp\\\\sub-CON07\\\\ses-preop\\\\coord\\\\sub-CON07_nodes.json', 'C:/Users/dinar/Desktop/brain_tumor_comp/comp\\\\sub-CON07\\\\ses-preop\\\\coord\\\\sub-CON07_nodes.tsv', 'C:/Users/dinar/Desktop/brain_tumor_comp/comp\\\\sub-CON08\\\\ses-postop\\\\coord\\\\sub-CON08_labels.json', 'C:/Users/dinar/Desktop/brain_tumor_comp/comp\\\\sub-CON08\\\\ses-postop\\\\coord\\\\sub-CON08_labels.tsv', 'C:/Users/dinar/Desktop/brain_tumor_comp/comp\\\\sub-CON08\\\\ses-postop\\\\coord\\\\sub-CON08_nodes.json', 'C:/Users/dinar/Desktop/brain_tumor_comp/comp\\\\sub-CON08\\\\ses-postop\\\\coord\\\\sub-CON08_nodes.tsv', 'C:/Users/dinar/Desktop/brain_tumor_comp/comp\\\\sub-CON08\\\\ses-preop\\\\coord\\\\sub-CON08_labels.json', 'C:/Users/dinar/Desktop/brain_tumor_comp/comp\\\\sub-CON08\\\\ses-preop\\\\coord\\\\sub-CON08_labels.tsv', 'C:/Users/dinar/Desktop/brain_tumor_comp/comp\\\\sub-CON08\\\\ses-preop\\\\coord\\\\sub-CON08_nodes.json', 'C:/Users/dinar/Desktop/brain_tumor_comp/comp\\\\sub-CON08\\\\ses-preop\\\\coord\\\\sub-CON08_nodes.tsv', 'C:/Users/dinar/Desktop/brain_tumor_comp/comp\\\\sub-CON09\\\\ses-postop\\\\coord\\\\sub-CON09_labels.json', 'C:/Users/dinar/Desktop/brain_tumor_comp/comp\\\\sub-CON09\\\\ses-postop\\\\coord\\\\sub-CON09_labels.tsv', 'C:/Users/dinar/Desktop/brain_tumor_comp/comp\\\\sub-CON09\\\\ses-postop\\\\coord\\\\sub-CON09_nodes.json', 'C:/Users/dinar/Desktop/brain_tumor_comp/comp\\\\sub-CON09\\\\ses-postop\\\\coord\\\\sub-CON09_nodes.tsv', 'C:/Users/dinar/Desktop/brain_tumor_comp/comp\\\\sub-CON09\\\\ses-preop\\\\coord\\\\sub-CON09_labels.json', 'C:/Users/dinar/Desktop/brain_tumor_comp/comp\\\\sub-CON09\\\\ses-preop\\\\coord\\\\sub-CON09_labels.tsv', 'C:/Users/dinar/Desktop/brain_tumor_comp/comp\\\\sub-CON09\\\\ses-preop\\\\coord\\\\sub-CON09_nodes.json', 'C:/Users/dinar/Desktop/brain_tumor_comp/comp\\\\sub-CON09\\\\ses-preop\\\\coord\\\\sub-CON09_nodes.tsv', 'C:/Users/dinar/Desktop/brain_tumor_comp/comp\\\\sub-CON10\\\\ses-postop\\\\coord\\\\sub-CON10_labels.json', 'C:/Users/dinar/Desktop/brain_tumor_comp/comp\\\\sub-CON10\\\\ses-postop\\\\coord\\\\sub-CON10_labels.tsv', 'C:/Users/dinar/Desktop/brain_tumor_comp/comp\\\\sub-CON10\\\\ses-postop\\\\coord\\\\sub-CON10_nodes.json', 'C:/Users/dinar/Desktop/brain_tumor_comp/comp\\\\sub-CON10\\\\ses-postop\\\\coord\\\\sub-CON10_nodes.tsv', 'C:/Users/dinar/Desktop/brain_tumor_comp/comp\\\\sub-CON10\\\\ses-preop\\\\coord\\\\sub-CON10_labels.json', 'C:/Users/dinar/Desktop/brain_tumor_comp/comp\\\\sub-CON10\\\\ses-preop\\\\coord\\\\sub-CON10_labels.tsv', 'C:/Users/dinar/Desktop/brain_tumor_comp/comp\\\\sub-CON10\\\\ses-preop\\\\coord\\\\sub-CON10_nodes.json', 'C:/Users/dinar/Desktop/brain_tumor_comp/comp\\\\sub-CON10\\\\ses-preop\\\\coord\\\\sub-CON10_nodes.tsv', 'C:/Users/dinar/Desktop/brain_tumor_comp/comp\\\\sub-CON11\\\\ses-postop\\\\coord\\\\sub-CON11_labels.json', 'C:/Users/dinar/Desktop/brain_tumor_comp/comp\\\\sub-CON11\\\\ses-postop\\\\coord\\\\sub-CON11_labels.tsv', 'C:/Users/dinar/Desktop/brain_tumor_comp/comp\\\\sub-CON11\\\\ses-postop\\\\coord\\\\sub-CON11_nodes.json', 'C:/Users/dinar/Desktop/brain_tumor_comp/comp\\\\sub-CON11\\\\ses-postop\\\\coord\\\\sub-CON11_nodes.tsv', 'C:/Users/dinar/Desktop/brain_tumor_comp/comp\\\\sub-CON11\\\\ses-preop\\\\coord\\\\sub-CON11_labels.json', 'C:/Users/dinar/Desktop/brain_tumor_comp/comp\\\\sub-CON11\\\\ses-preop\\\\coord\\\\sub-CON11_labels.tsv', 'C:/Users/dinar/Desktop/brain_tumor_comp/comp\\\\sub-CON11\\\\ses-preop\\\\coord\\\\sub-CON11_nodes.json', 'C:/Users/dinar/Desktop/brain_tumor_comp/comp\\\\sub-CON11\\\\ses-preop\\\\coord\\\\sub-CON11_nodes.tsv', 'C:/Users/dinar/Desktop/brain_tumor_comp/comp\\\\sub-PAT01\\\\ses-postop\\\\coord\\\\sub-PAT01_labels.json', 'C:/Users/dinar/Desktop/brain_tumor_comp/comp\\\\sub-PAT01\\\\ses-postop\\\\coord\\\\sub-PAT01_labels.tsv', 'C:/Users/dinar/Desktop/brain_tumor_comp/comp\\\\sub-PAT01\\\\ses-postop\\\\coord\\\\sub-PAT01_nodes.json', 'C:/Users/dinar/Desktop/brain_tumor_comp/comp\\\\sub-PAT01\\\\ses-postop\\\\coord\\\\sub-PAT01_nodes.tsv', 'C:/Users/dinar/Desktop/brain_tumor_comp/comp\\\\sub-PAT01\\\\ses-preop\\\\coord\\\\sub-PAT01_labels.json', 'C:/Users/dinar/Desktop/brain_tumor_comp/comp\\\\sub-PAT01\\\\ses-preop\\\\coord\\\\sub-PAT01_labels.tsv', 'C:/Users/dinar/Desktop/brain_tumor_comp/comp\\\\sub-PAT01\\\\ses-preop\\\\coord\\\\sub-PAT01_nodes.json', 'C:/Users/dinar/Desktop/brain_tumor_comp/comp\\\\sub-PAT01\\\\ses-preop\\\\coord\\\\sub-PAT01_nodes.tsv', 'C:/Users/dinar/Desktop/brain_tumor_comp/comp\\\\sub-PAT02\\\\ses-postop\\\\coord\\\\sub-PAT02_labels.json', 'C:/Users/dinar/Desktop/brain_tumor_comp/comp\\\\sub-PAT02\\\\ses-postop\\\\coord\\\\sub-PAT02_labels.tsv', 'C:/Users/dinar/Desktop/brain_tumor_comp/comp\\\\sub-PAT02\\\\ses-postop\\\\coord\\\\sub-PAT02_nodes.json', 'C:/Users/dinar/Desktop/brain_tumor_comp/comp\\\\sub-PAT02\\\\ses-postop\\\\coord\\\\sub-PAT02_nodes.tsv', 'C:/Users/dinar/Desktop/brain_tumor_comp/comp\\\\sub-PAT02\\\\ses-preop\\\\coord\\\\sub-PAT02_labels.json', 'C:/Users/dinar/Desktop/brain_tumor_comp/comp\\\\sub-PAT02\\\\ses-preop\\\\coord\\\\sub-PAT02_labels.tsv', 'C:/Users/dinar/Desktop/brain_tumor_comp/comp\\\\sub-PAT02\\\\ses-preop\\\\coord\\\\sub-PAT02_nodes.json', 'C:/Users/dinar/Desktop/brain_tumor_comp/comp\\\\sub-PAT02\\\\ses-preop\\\\coord\\\\sub-PAT02_nodes.tsv', 'C:/Users/dinar/Desktop/brain_tumor_comp/comp\\\\sub-PAT03\\\\ses-postop\\\\coord\\\\sub-PAT03_labels.json', 'C:/Users/dinar/Desktop/brain_tumor_comp/comp\\\\sub-PAT03\\\\ses-postop\\\\coord\\\\sub-PAT03_labels.tsv', 'C:/Users/dinar/Desktop/brain_tumor_comp/comp\\\\sub-PAT03\\\\ses-postop\\\\coord\\\\sub-PAT03_nodes.json', 'C:/Users/dinar/Desktop/brain_tumor_comp/comp\\\\sub-PAT03\\\\ses-postop\\\\coord\\\\sub-PAT03_nodes.tsv', 'C:/Users/dinar/Desktop/brain_tumor_comp/comp\\\\sub-PAT03\\\\ses-preop\\\\coord\\\\sub-PAT03_labels.json', 'C:/Users/dinar/Desktop/brain_tumor_comp/comp\\\\sub-PAT03\\\\ses-preop\\\\coord\\\\sub-PAT03_labels.tsv', 'C:/Users/dinar/Desktop/brain_tumor_comp/comp\\\\sub-PAT03\\\\ses-preop\\\\coord\\\\sub-PAT03_nodes.json', 'C:/Users/dinar/Desktop/brain_tumor_comp/comp\\\\sub-PAT03\\\\ses-preop\\\\coord\\\\sub-PAT03_nodes.tsv', 'C:/Users/dinar/Desktop/brain_tumor_comp/comp\\\\sub-PAT05\\\\ses-postop\\\\coord\\\\sub-PAT05_labels.json', 'C:/Users/dinar/Desktop/brain_tumor_comp/comp\\\\sub-PAT05\\\\ses-postop\\\\coord\\\\sub-PAT05_labels.tsv', 'C:/Users/dinar/Desktop/brain_tumor_comp/comp\\\\sub-PAT05\\\\ses-postop\\\\coord\\\\sub-PAT05_nodes.json', 'C:/Users/dinar/Desktop/brain_tumor_comp/comp\\\\sub-PAT05\\\\ses-postop\\\\coord\\\\sub-PAT05_nodes.tsv', 'C:/Users/dinar/Desktop/brain_tumor_comp/comp\\\\sub-PAT05\\\\ses-preop\\\\coord\\\\sub-PAT05_labels.json', 'C:/Users/dinar/Desktop/brain_tumor_comp/comp\\\\sub-PAT05\\\\ses-preop\\\\coord\\\\sub-PAT05_labels.tsv', 'C:/Users/dinar/Desktop/brain_tumor_comp/comp\\\\sub-PAT05\\\\ses-preop\\\\coord\\\\sub-PAT05_nodes.json', 'C:/Users/dinar/Desktop/brain_tumor_comp/comp\\\\sub-PAT05\\\\ses-preop\\\\coord\\\\sub-PAT05_nodes.tsv', 'C:/Users/dinar/Desktop/brain_tumor_comp/comp\\\\sub-PAT06\\\\ses-postop\\\\coord\\\\sub-PAT06_labels.json', 'C:/Users/dinar/Desktop/brain_tumor_comp/comp\\\\sub-PAT06\\\\ses-postop\\\\coord\\\\sub-PAT06_labels.tsv', 'C:/Users/dinar/Desktop/brain_tumor_comp/comp\\\\sub-PAT06\\\\ses-postop\\\\coord\\\\sub-PAT06_nodes.json', 'C:/Users/dinar/Desktop/brain_tumor_comp/comp\\\\sub-PAT06\\\\ses-postop\\\\coord\\\\sub-PAT06_nodes.tsv', 'C:/Users/dinar/Desktop/brain_tumor_comp/comp\\\\sub-PAT06\\\\ses-preop\\\\coord\\\\sub-PAT06_labels.json', 'C:/Users/dinar/Desktop/brain_tumor_comp/comp\\\\sub-PAT06\\\\ses-preop\\\\coord\\\\sub-PAT06_labels.tsv', 'C:/Users/dinar/Desktop/brain_tumor_comp/comp\\\\sub-PAT06\\\\ses-preop\\\\coord\\\\sub-PAT06_nodes.json', 'C:/Users/dinar/Desktop/brain_tumor_comp/comp\\\\sub-PAT06\\\\ses-preop\\\\coord\\\\sub-PAT06_nodes.tsv', 'C:/Users/dinar/Desktop/brain_tumor_comp/comp\\\\sub-PAT07\\\\ses-postop\\\\coord\\\\sub-PAT07_labels.json', 'C:/Users/dinar/Desktop/brain_tumor_comp/comp\\\\sub-PAT07\\\\ses-postop\\\\coord\\\\sub-PAT07_labels.tsv', 'C:/Users/dinar/Desktop/brain_tumor_comp/comp\\\\sub-PAT07\\\\ses-postop\\\\coord\\\\sub-PAT07_nodes.json', 'C:/Users/dinar/Desktop/brain_tumor_comp/comp\\\\sub-PAT07\\\\ses-postop\\\\coord\\\\sub-PAT07_nodes.tsv', 'C:/Users/dinar/Desktop/brain_tumor_comp/comp\\\\sub-PAT07\\\\ses-preop\\\\coord\\\\sub-PAT07_labels.json', 'C:/Users/dinar/Desktop/brain_tumor_comp/comp\\\\sub-PAT07\\\\ses-preop\\\\coord\\\\sub-PAT07_labels.tsv', 'C:/Users/dinar/Desktop/brain_tumor_comp/comp\\\\sub-PAT07\\\\ses-preop\\\\coord\\\\sub-PAT07_nodes.json', 'C:/Users/dinar/Desktop/brain_tumor_comp/comp\\\\sub-PAT07\\\\ses-preop\\\\coord\\\\sub-PAT07_nodes.tsv', 'C:/Users/dinar/Desktop/brain_tumor_comp/comp\\\\sub-PAT08\\\\ses-postop\\\\coord\\\\sub-PAT08_labels.json', 'C:/Users/dinar/Desktop/brain_tumor_comp/comp\\\\sub-PAT08\\\\ses-postop\\\\coord\\\\sub-PAT08_labels.tsv', 'C:/Users/dinar/Desktop/brain_tumor_comp/comp\\\\sub-PAT08\\\\ses-postop\\\\coord\\\\sub-PAT08_nodes.json', 'C:/Users/dinar/Desktop/brain_tumor_comp/comp\\\\sub-PAT08\\\\ses-postop\\\\coord\\\\sub-PAT08_nodes.tsv', 'C:/Users/dinar/Desktop/brain_tumor_comp/comp\\\\sub-PAT08\\\\ses-preop\\\\coord\\\\sub-PAT08_labels.json', 'C:/Users/dinar/Desktop/brain_tumor_comp/comp\\\\sub-PAT08\\\\ses-preop\\\\coord\\\\sub-PAT08_labels.tsv', 'C:/Users/dinar/Desktop/brain_tumor_comp/comp\\\\sub-PAT08\\\\ses-preop\\\\coord\\\\sub-PAT08_nodes.json', 'C:/Users/dinar/Desktop/brain_tumor_comp/comp\\\\sub-PAT08\\\\ses-preop\\\\coord\\\\sub-PAT08_nodes.tsv', 'C:/Users/dinar/Desktop/brain_tumor_comp/comp\\\\sub-PAT10\\\\ses-postop\\\\coord\\\\sub-PAT10_labels.json', 'C:/Users/dinar/Desktop/brain_tumor_comp/comp\\\\sub-PAT10\\\\ses-postop\\\\coord\\\\sub-PAT10_labels.tsv', 'C:/Users/dinar/Desktop/brain_tumor_comp/comp\\\\sub-PAT10\\\\ses-postop\\\\coord\\\\sub-PAT10_nodes.json', 'C:/Users/dinar/Desktop/brain_tumor_comp/comp\\\\sub-PAT10\\\\ses-postop\\\\coord\\\\sub-PAT10_nodes.tsv', 'C:/Users/dinar/Desktop/brain_tumor_comp/comp\\\\sub-PAT10\\\\ses-preop\\\\coord\\\\sub-PAT10_labels.json', 'C:/Users/dinar/Desktop/brain_tumor_comp/comp\\\\sub-PAT10\\\\ses-preop\\\\coord\\\\sub-PAT10_labels.tsv', 'C:/Users/dinar/Desktop/brain_tumor_comp/comp\\\\sub-PAT10\\\\ses-preop\\\\coord\\\\sub-PAT10_nodes.json', 'C:/Users/dinar/Desktop/brain_tumor_comp/comp\\\\sub-PAT10\\\\ses-preop\\\\coord\\\\sub-PAT10_nodes.tsv', 'C:/Users/dinar/Desktop/brain_tumor_comp/comp\\\\sub-PAT11\\\\ses-preop\\\\coord\\\\sub-PAT11_labels.json', 'C:/Users/dinar/Desktop/brain_tumor_comp/comp\\\\sub-PAT11\\\\ses-preop\\\\coord\\\\sub-PAT11_labels.tsv', 'C:/Users/dinar/Desktop/brain_tumor_comp/comp\\\\sub-PAT11\\\\ses-preop\\\\coord\\\\sub-PAT11_nodes.json', 'C:/Users/dinar/Desktop/brain_tumor_comp/comp\\\\sub-PAT11\\\\ses-preop\\\\coord\\\\sub-PAT11_nodes.tsv', 'C:/Users/dinar/Desktop/brain_tumor_comp/comp\\\\sub-PAT13\\\\ses-postop\\\\coord\\\\sub-PAT13_labels.json', 'C:/Users/dinar/Desktop/brain_tumor_comp/comp\\\\sub-PAT13\\\\ses-postop\\\\coord\\\\sub-PAT13_labels.tsv', 'C:/Users/dinar/Desktop/brain_tumor_comp/comp\\\\sub-PAT13\\\\ses-postop\\\\coord\\\\sub-PAT13_nodes.json', 'C:/Users/dinar/Desktop/brain_tumor_comp/comp\\\\sub-PAT13\\\\ses-postop\\\\coord\\\\sub-PAT13_nodes.tsv', 'C:/Users/dinar/Desktop/brain_tumor_comp/comp\\\\sub-PAT13\\\\ses-preop\\\\coord\\\\sub-PAT13_labels.json', 'C:/Users/dinar/Desktop/brain_tumor_comp/comp\\\\sub-PAT13\\\\ses-preop\\\\coord\\\\sub-PAT13_labels.tsv', 'C:/Users/dinar/Desktop/brain_tumor_comp/comp\\\\sub-PAT13\\\\ses-preop\\\\coord\\\\sub-PAT13_nodes.json', 'C:/Users/dinar/Desktop/brain_tumor_comp/comp\\\\sub-PAT13\\\\ses-preop\\\\coord\\\\sub-PAT13_nodes.tsv', 'C:/Users/dinar/Desktop/brain_tumor_comp/comp\\\\sub-PAT14\\\\ses-preop\\\\coord\\\\sub-PAT14_labels.json', 'C:/Users/dinar/Desktop/brain_tumor_comp/comp\\\\sub-PAT14\\\\ses-preop\\\\coord\\\\sub-PAT14_labels.tsv', 'C:/Users/dinar/Desktop/brain_tumor_comp/comp\\\\sub-PAT14\\\\ses-preop\\\\coord\\\\sub-PAT14_nodes.json', 'C:/Users/dinar/Desktop/brain_tumor_comp/comp\\\\sub-PAT14\\\\ses-preop\\\\coord\\\\sub-PAT14_nodes.tsv', 'C:/Users/dinar/Desktop/brain_tumor_comp/comp\\\\sub-PAT15\\\\ses-postop\\\\coord\\\\sub-PAT15_labels.json', 'C:/Users/dinar/Desktop/brain_tumor_comp/comp\\\\sub-PAT15\\\\ses-postop\\\\coord\\\\sub-PAT15_labels.tsv', 'C:/Users/dinar/Desktop/brain_tumor_comp/comp\\\\sub-PAT15\\\\ses-postop\\\\coord\\\\sub-PAT15_nodes.json', 'C:/Users/dinar/Desktop/brain_tumor_comp/comp\\\\sub-PAT15\\\\ses-postop\\\\coord\\\\sub-PAT15_nodes.tsv', 'C:/Users/dinar/Desktop/brain_tumor_comp/comp\\\\sub-PAT15\\\\ses-preop\\\\coord\\\\sub-PAT15_labels.json', 'C:/Users/dinar/Desktop/brain_tumor_comp/comp\\\\sub-PAT15\\\\ses-preop\\\\coord\\\\sub-PAT15_labels.tsv', 'C:/Users/dinar/Desktop/brain_tumor_comp/comp\\\\sub-PAT15\\\\ses-preop\\\\coord\\\\sub-PAT15_nodes.json', 'C:/Users/dinar/Desktop/brain_tumor_comp/comp\\\\sub-PAT15\\\\ses-preop\\\\coord\\\\sub-PAT15_nodes.tsv', 'C:/Users/dinar/Desktop/brain_tumor_comp/comp\\\\sub-PAT16\\\\ses-postop\\\\coord\\\\sub-PAT16_labels.json', 'C:/Users/dinar/Desktop/brain_tumor_comp/comp\\\\sub-PAT16\\\\ses-postop\\\\coord\\\\sub-PAT16_labels.tsv', 'C:/Users/dinar/Desktop/brain_tumor_comp/comp\\\\sub-PAT16\\\\ses-postop\\\\coord\\\\sub-PAT16_nodes.json', 'C:/Users/dinar/Desktop/brain_tumor_comp/comp\\\\sub-PAT16\\\\ses-postop\\\\coord\\\\sub-PAT16_nodes.tsv', 'C:/Users/dinar/Desktop/brain_tumor_comp/comp\\\\sub-PAT16\\\\ses-preop\\\\coord\\\\sub-PAT16_labels.json', 'C:/Users/dinar/Desktop/brain_tumor_comp/comp\\\\sub-PAT16\\\\ses-preop\\\\coord\\\\sub-PAT16_labels.tsv', 'C:/Users/dinar/Desktop/brain_tumor_comp/comp\\\\sub-PAT16\\\\ses-preop\\\\coord\\\\sub-PAT16_nodes.json', 'C:/Users/dinar/Desktop/brain_tumor_comp/comp\\\\sub-PAT16\\\\ses-preop\\\\coord\\\\sub-PAT16_nodes.tsv', 'C:/Users/dinar/Desktop/brain_tumor_comp/comp\\\\sub-PAT17\\\\ses-postop\\\\coord\\\\sub-PAT17_labels.json', 'C:/Users/dinar/Desktop/brain_tumor_comp/comp\\\\sub-PAT17\\\\ses-postop\\\\coord\\\\sub-PAT17_labels.tsv', 'C:/Users/dinar/Desktop/brain_tumor_comp/comp\\\\sub-PAT17\\\\ses-postop\\\\coord\\\\sub-PAT17_nodes.json', 'C:/Users/dinar/Desktop/brain_tumor_comp/comp\\\\sub-PAT17\\\\ses-postop\\\\coord\\\\sub-PAT17_nodes.tsv', 'C:/Users/dinar/Desktop/brain_tumor_comp/comp\\\\sub-PAT17\\\\ses-preop\\\\coord\\\\sub-PAT17_labels.json', 'C:/Users/dinar/Desktop/brain_tumor_comp/comp\\\\sub-PAT17\\\\ses-preop\\\\coord\\\\sub-PAT17_labels.tsv', 'C:/Users/dinar/Desktop/brain_tumor_comp/comp\\\\sub-PAT17\\\\ses-preop\\\\coord\\\\sub-PAT17_nodes.json', 'C:/Users/dinar/Desktop/brain_tumor_comp/comp\\\\sub-PAT17\\\\ses-preop\\\\coord\\\\sub-PAT17_nodes.tsv', 'C:/Users/dinar/Desktop/brain_tumor_comp/comp\\\\sub-PAT19\\\\ses-preop\\\\coord\\\\sub-PAT19_labels.json', 'C:/Users/dinar/Desktop/brain_tumor_comp/comp\\\\sub-PAT19\\\\ses-preop\\\\coord\\\\sub-PAT19_labels.tsv', 'C:/Users/dinar/Desktop/brain_tumor_comp/comp\\\\sub-PAT19\\\\ses-preop\\\\coord\\\\sub-PAT19_nodes.json', 'C:/Users/dinar/Desktop/brain_tumor_comp/comp\\\\sub-PAT19\\\\ses-preop\\\\coord\\\\sub-PAT19_nodes.tsv', 'C:/Users/dinar/Desktop/brain_tumor_comp/comp\\\\sub-PAT20\\\\ses-postop\\\\coord\\\\sub-PAT20_labels.json', 'C:/Users/dinar/Desktop/brain_tumor_comp/comp\\\\sub-PAT20\\\\ses-postop\\\\coord\\\\sub-PAT20_labels.tsv', 'C:/Users/dinar/Desktop/brain_tumor_comp/comp\\\\sub-PAT20\\\\ses-postop\\\\coord\\\\sub-PAT20_nodes.json', 'C:/Users/dinar/Desktop/brain_tumor_comp/comp\\\\sub-PAT20\\\\ses-postop\\\\coord\\\\sub-PAT20_nodes.tsv', 'C:/Users/dinar/Desktop/brain_tumor_comp/comp\\\\sub-PAT20\\\\ses-preop\\\\coord\\\\sub-PAT20_labels.json', 'C:/Users/dinar/Desktop/brain_tumor_comp/comp\\\\sub-PAT20\\\\ses-preop\\\\coord\\\\sub-PAT20_labels.tsv', 'C:/Users/dinar/Desktop/brain_tumor_comp/comp\\\\sub-PAT20\\\\ses-preop\\\\coord\\\\sub-PAT20_nodes.json', 'C:/Users/dinar/Desktop/brain_tumor_comp/comp\\\\sub-PAT20\\\\ses-preop\\\\coord\\\\sub-PAT20_nodes.tsv', 'C:/Users/dinar/Desktop/brain_tumor_comp/comp\\\\sub-PAT22\\\\ses-preop\\\\coord\\\\sub-PAT22_labels.json', 'C:/Users/dinar/Desktop/brain_tumor_comp/comp\\\\sub-PAT22\\\\ses-preop\\\\coord\\\\sub-PAT22_labels.tsv', 'C:/Users/dinar/Desktop/brain_tumor_comp/comp\\\\sub-PAT22\\\\ses-preop\\\\coord\\\\sub-PAT22_nodes.json', 'C:/Users/dinar/Desktop/brain_tumor_comp/comp\\\\sub-PAT22\\\\ses-preop\\\\coord\\\\sub-PAT22_nodes.tsv', 'C:/Users/dinar/Desktop/brain_tumor_comp/comp\\\\sub-PAT23\\\\ses-preop\\\\coord\\\\sub-PAT23_labels.json', 'C:/Users/dinar/Desktop/brain_tumor_comp/comp\\\\sub-PAT23\\\\ses-preop\\\\coord\\\\sub-PAT23_labels.tsv', 'C:/Users/dinar/Desktop/brain_tumor_comp/comp\\\\sub-PAT23\\\\ses-preop\\\\coord\\\\sub-PAT23_nodes.json', 'C:/Users/dinar/Desktop/brain_tumor_comp/comp\\\\sub-PAT23\\\\ses-preop\\\\coord\\\\sub-PAT23_nodes.tsv', 'C:/Users/dinar/Desktop/brain_tumor_comp/comp\\\\sub-PAT24\\\\ses-postop\\\\coord\\\\sub-PAT24_labels.json', 'C:/Users/dinar/Desktop/brain_tumor_comp/comp\\\\sub-PAT24\\\\ses-postop\\\\coord\\\\sub-PAT24_labels.tsv', 'C:/Users/dinar/Desktop/brain_tumor_comp/comp\\\\sub-PAT24\\\\ses-postop\\\\coord\\\\sub-PAT24_nodes.json', 'C:/Users/dinar/Desktop/brain_tumor_comp/comp\\\\sub-PAT24\\\\ses-postop\\\\coord\\\\sub-PAT24_nodes.tsv', 'C:/Users/dinar/Desktop/brain_tumor_comp/comp\\\\sub-PAT24\\\\ses-preop\\\\coord\\\\sub-PAT24_labels.json', 'C:/Users/dinar/Desktop/brain_tumor_comp/comp\\\\sub-PAT24\\\\ses-preop\\\\coord\\\\sub-PAT24_labels.tsv', 'C:/Users/dinar/Desktop/brain_tumor_comp/comp\\\\sub-PAT24\\\\ses-preop\\\\coord\\\\sub-PAT24_nodes.json', 'C:/Users/dinar/Desktop/brain_tumor_comp/comp\\\\sub-PAT24\\\\ses-preop\\\\coord\\\\sub-PAT24_nodes.tsv', 'C:/Users/dinar/Desktop/brain_tumor_comp/comp\\\\sub-PAT25\\\\ses-postop\\\\coord\\\\sub-PAT25_labels.json', 'C:/Users/dinar/Desktop/brain_tumor_comp/comp\\\\sub-PAT25\\\\ses-postop\\\\coord\\\\sub-PAT25_labels.tsv', 'C:/Users/dinar/Desktop/brain_tumor_comp/comp\\\\sub-PAT25\\\\ses-postop\\\\coord\\\\sub-PAT25_nodes.json', 'C:/Users/dinar/Desktop/brain_tumor_comp/comp\\\\sub-PAT25\\\\ses-postop\\\\coord\\\\sub-PAT25_nodes.tsv', 'C:/Users/dinar/Desktop/brain_tumor_comp/comp\\\\sub-PAT25\\\\ses-preop\\\\coord\\\\sub-PAT25_labels.json', 'C:/Users/dinar/Desktop/brain_tumor_comp/comp\\\\sub-PAT25\\\\ses-preop\\\\coord\\\\sub-PAT25_labels.tsv', 'C:/Users/dinar/Desktop/brain_tumor_comp/comp\\\\sub-PAT25\\\\ses-preop\\\\coord\\\\sub-PAT25_nodes.json', 'C:/Users/dinar/Desktop/brain_tumor_comp/comp\\\\sub-PAT25\\\\ses-preop\\\\coord\\\\sub-PAT25_nodes.tsv', 'C:/Users/dinar/Desktop/brain_tumor_comp/comp\\\\sub-PAT26\\\\ses-postop\\\\coord\\\\sub-PAT26_labels.json', 'C:/Users/dinar/Desktop/brain_tumor_comp/comp\\\\sub-PAT26\\\\ses-postop\\\\coord\\\\sub-PAT26_labels.tsv', 'C:/Users/dinar/Desktop/brain_tumor_comp/comp\\\\sub-PAT26\\\\ses-postop\\\\coord\\\\sub-PAT26_nodes.json', 'C:/Users/dinar/Desktop/brain_tumor_comp/comp\\\\sub-PAT26\\\\ses-postop\\\\coord\\\\sub-PAT26_nodes.tsv', 'C:/Users/dinar/Desktop/brain_tumor_comp/comp\\\\sub-PAT26\\\\ses-preop\\\\coord\\\\sub-PAT26_labels.json', 'C:/Users/dinar/Desktop/brain_tumor_comp/comp\\\\sub-PAT26\\\\ses-preop\\\\coord\\\\sub-PAT26_labels.tsv', 'C:/Users/dinar/Desktop/brain_tumor_comp/comp\\\\sub-PAT26\\\\ses-preop\\\\coord\\\\sub-PAT26_nodes.json', 'C:/Users/dinar/Desktop/brain_tumor_comp/comp\\\\sub-PAT26\\\\ses-preop\\\\coord\\\\sub-PAT26_nodes.tsv', 'C:/Users/dinar/Desktop/brain_tumor_comp/comp\\\\sub-PAT27\\\\ses-preop\\\\coord\\\\sub-PAT27_labels.json', 'C:/Users/dinar/Desktop/brain_tumor_comp/comp\\\\sub-PAT27\\\\ses-preop\\\\coord\\\\sub-PAT27_labels.tsv', 'C:/Users/dinar/Desktop/brain_tumor_comp/comp\\\\sub-PAT27\\\\ses-preop\\\\coord\\\\sub-PAT27_nodes.json', 'C:/Users/dinar/Desktop/brain_tumor_comp/comp\\\\sub-PAT27\\\\ses-preop\\\\coord\\\\sub-PAT27_nodes.tsv', 'C:/Users/dinar/Desktop/brain_tumor_comp/comp\\\\sub-PAT28\\\\ses-postop\\\\coord\\\\sub-PAT28_labels.json', 'C:/Users/dinar/Desktop/brain_tumor_comp/comp\\\\sub-PAT28\\\\ses-postop\\\\coord\\\\sub-PAT28_labels.tsv', 'C:/Users/dinar/Desktop/brain_tumor_comp/comp\\\\sub-PAT28\\\\ses-postop\\\\coord\\\\sub-PAT28_nodes.json', 'C:/Users/dinar/Desktop/brain_tumor_comp/comp\\\\sub-PAT28\\\\ses-postop\\\\coord\\\\sub-PAT28_nodes.tsv', 'C:/Users/dinar/Desktop/brain_tumor_comp/comp\\\\sub-PAT28\\\\ses-preop\\\\coord\\\\sub-PAT28_labels.json', 'C:/Users/dinar/Desktop/brain_tumor_comp/comp\\\\sub-PAT28\\\\ses-preop\\\\coord\\\\sub-PAT28_labels.tsv', 'C:/Users/dinar/Desktop/brain_tumor_comp/comp\\\\sub-PAT28\\\\ses-preop\\\\coord\\\\sub-PAT28_nodes.json', 'C:/Users/dinar/Desktop/brain_tumor_comp/comp\\\\sub-PAT28\\\\ses-preop\\\\coord\\\\sub-PAT28_nodes.tsv', 'C:/Users/dinar/Desktop/brain_tumor_comp/comp\\\\sub-PAT29\\\\ses-preop\\\\coord\\\\sub-PAT29_labels.json', 'C:/Users/dinar/Desktop/brain_tumor_comp/comp\\\\sub-PAT29\\\\ses-preop\\\\coord\\\\sub-PAT29_labels.tsv', 'C:/Users/dinar/Desktop/brain_tumor_comp/comp\\\\sub-PAT29\\\\ses-preop\\\\coord\\\\sub-PAT29_nodes.json', 'C:/Users/dinar/Desktop/brain_tumor_comp/comp\\\\sub-PAT29\\\\ses-preop\\\\coord\\\\sub-PAT29_nodes.tsv', 'C:/Users/dinar/Desktop/brain_tumor_comp/comp\\\\sub-PAT31\\\\ses-preop\\\\coord\\\\sub-PAT31_labels.json', 'C:/Users/dinar/Desktop/brain_tumor_comp/comp\\\\sub-PAT31\\\\ses-preop\\\\coord\\\\sub-PAT31_labels.tsv', 'C:/Users/dinar/Desktop/brain_tumor_comp/comp\\\\sub-PAT31\\\\ses-preop\\\\coord\\\\sub-PAT31_nodes.json', 'C:/Users/dinar/Desktop/brain_tumor_comp/comp\\\\sub-PAT31\\\\ses-preop\\\\coord\\\\sub-PAT31_nodes.tsv']\n"
     ]
    }
   ],
   "source": [
    "from comp_validator import comp_validator\n",
    "\n",
    "# comp_validator.validate('C:\\\\Users\\\\dinar\\\\Desktop\\\\test\\\\output')\n",
    "\n",
    "comp_validator.validate('C:/Users/dinar/Desktop/brain_tumor_comp/comp')"
   ]
  },
  {
   "cell_type": "code",
   "execution_count": null,
   "metadata": {},
   "outputs": [],
   "source": []
  },
  {
   "cell_type": "code",
   "execution_count": null,
   "metadata": {},
   "outputs": [],
   "source": []
  },
  {
   "cell_type": "code",
   "execution_count": null,
   "metadata": {},
   "outputs": [],
   "source": []
  },
  {
   "cell_type": "code",
   "execution_count": null,
   "metadata": {},
   "outputs": [],
   "source": []
  },
  {
   "cell_type": "code",
   "execution_count": 9,
   "metadata": {},
   "outputs": [
    {
     "name": "stdout",
     "output_type": "stream",
     "text": [
      "68 1\n"
     ]
    }
   ],
   "source": [
    "import pandas as pd\n",
    "\n",
    "r, c = pd.read_csv('C:/Users/dinar/Desktop/conversions/brain_tumor/sourcedata/sub-CON01/ses-preop/weights.txt', sep='\\t', header=None).shape\n",
    "print(r, c)\n"
   ]
  },
  {
   "cell_type": "code",
   "execution_count": 13,
   "metadata": {},
   "outputs": [
    {
     "data": {
      "text/plain": [
       "(1, 1)"
      ]
     },
     "execution_count": 13,
     "metadata": {},
     "output_type": "execute_result"
    }
   ],
   "source": [
    "pd.read_csv('C:/Users/dinar/Desktop/test/output/weights.txt', sep='\\t', header=None).shape"
   ]
  },
  {
   "cell_type": "code",
   "execution_count": 15,
   "metadata": {},
   "outputs": [
    {
     "data": {
      "text/plain": [
       "'C:/Users/dinar/Desktop/test/output'"
      ]
     },
     "execution_count": 15,
     "metadata": {},
     "output_type": "execute_result"
    }
   ],
   "source": [
    "import os \n",
    "\n",
    "os.path.dirname('C:/Users/dinar/Desktop/test/output/weights.txt')"
   ]
  },
  {
   "cell_type": "code",
   "execution_count": null,
   "metadata": {},
   "outputs": [],
   "source": []
  },
  {
   "cell_type": "code",
   "execution_count": null,
   "metadata": {},
   "outputs": [],
   "source": []
  },
  {
   "cell_type": "code",
   "execution_count": 3,
   "metadata": {},
   "outputs": [],
   "source": [
    "import pandas as pd \n",
    "\n",
    "file = pd.read_csv('C:/Users/dinar/Desktop/incf_edu_case/output/participants.tsv', sep='\\t')"
   ]
  },
  {
   "cell_type": "code",
   "execution_count": 9,
   "metadata": {},
   "outputs": [
    {
     "data": {
      "text/plain": [
       "numpy.float64"
      ]
     },
     "execution_count": 9,
     "metadata": {},
     "output_type": "execute_result"
    }
   ],
   "source": [
    "type(file['age'][0])"
   ]
  },
  {
   "cell_type": "code",
   "execution_count": 5,
   "metadata": {},
   "outputs": [
    {
     "name": "stdout",
     "output_type": "stream",
     "text": [
      "<class 'float'> nan\n",
      "['sub-01']\n"
     ]
    }
   ],
   "source": [
    "import re\n",
    "\n",
    "for idx, content in file.iterrows():\n",
    "    print(type(content['species']), content['species'])\n",
    "    print(re.findall(r'sub-[0-9a-zA-Z]+', content['participant_id'], flags=re.IGNORECASE))"
   ]
  },
  {
   "cell_type": "code",
   "execution_count": 6,
   "metadata": {},
   "outputs": [
    {
     "data": {
      "text/plain": [
       "nan"
      ]
     },
     "execution_count": 6,
     "metadata": {},
     "output_type": "execute_result"
    }
   ],
   "source": [
    "name = file['species'].unique()[0]\n",
    "name"
   ]
  },
  {
   "cell_type": "code",
   "execution_count": 7,
   "metadata": {},
   "outputs": [
    {
     "data": {
      "text/plain": [
       "numpy.float64"
      ]
     },
     "execution_count": 7,
     "metadata": {},
     "output_type": "execute_result"
    }
   ],
   "source": [
    "type(name)"
   ]
  },
  {
   "cell_type": "code",
   "execution_count": 9,
   "metadata": {},
   "outputs": [
    {
     "data": {
      "text/plain": [
       "True"
      ]
     },
     "execution_count": 9,
     "metadata": {},
     "output_type": "execute_result"
    }
   ],
   "source": [
    "'participant_id' in file.columns"
   ]
  },
  {
   "cell_type": "code",
   "execution_count": null,
   "metadata": {},
   "outputs": [],
   "source": []
  }
 ],
 "metadata": {
  "kernelspec": {
   "display_name": "Python 3 (ipykernel)",
   "language": "python",
   "name": "python3"
  },
  "language_info": {
   "codemirror_mode": {
    "name": "ipython",
    "version": 3
   },
   "file_extension": ".py",
   "mimetype": "text/x-python",
   "name": "python",
   "nbconvert_exporter": "python",
   "pygments_lexer": "ipython3",
   "version": "3.9.12"
  }
 },
 "nbformat": 4,
 "nbformat_minor": 1
}